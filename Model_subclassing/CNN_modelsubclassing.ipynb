{
  "nbformat": 4,
  "nbformat_minor": 0,
  "metadata": {
    "colab": {
      "provenance": [],
      "collapsed_sections": []
    },
    "kernelspec": {
      "name": "python3",
      "display_name": "Python 3"
    },
    "language_info": {
      "name": "python"
    },
    "accelerator": "TPU"
  },
  "cells": [
    {
      "cell_type": "code",
      "execution_count": null,
      "metadata": {
        "id": "QsL0fZVVWIGq"
      },
      "outputs": [],
      "source": [
        "import tensorflow as tf\n",
        "from tensorflow import keras"
      ]
    },
    {
      "cell_type": "code",
      "source": [
        "class MyCustomDense(tf.keras.layers.Layer):\n",
        "  # Initialize this class with the number of units\n",
        "  def __init__(self, units):\n",
        "        super(MyCustomDense, self).__init__()\n",
        "        self.units = units\n",
        "# Define the weights and the bias\n",
        "  def build(self, input_shape):\n",
        "        self.w = self.add_weight(shape=(input_shape[-1], self.units),\n",
        "                            initializer='random_normal',\n",
        "                            trainable=True)\n",
        "        self.b = self.add_weight(shape=(self.units,),\n",
        "                            initializer='random_normal',\n",
        "                            trainable=True)\n",
        "        # Applying this layer transformation to the input tensor\n",
        "  def call(self, inputs):\n",
        "        return tf.matmul(inputs, self.w) + self.b\n",
        "  def get_config(self):\n",
        "        return {'units': self.units}\n",
        "    "
      ],
      "metadata": {
        "id": "pIX3arewWhGw"
      },
      "execution_count": null,
      "outputs": []
    },
    {
      "cell_type": "code",
      "source": [
        "# Create an input layer\n",
        "inputs = keras.Input((12,4))\n",
        "# Add an instance of MyCustomeDense layer\n",
        "outputs = MyCustomDense(2)(inputs)\n",
        "# Create a model\n",
        "model = keras.Model(inputs, outputs)\n",
        "# Get the model config\n",
        "config = model.get_config()"
      ],
      "metadata": {
        "id": "HRYGxE7kZagj"
      },
      "execution_count": null,
      "outputs": []
    },
    {
      "cell_type": "code",
      "source": [
        "new_model = keras.Model.from_config(config, \n",
        "                              custom_objects={'MyCustomDense': MyCustomDense})"
      ],
      "metadata": {
        "id": "3oR-J-nfZin4"
      },
      "execution_count": null,
      "outputs": []
    },
    {
      "cell_type": "code",
      "source": [
        "mnist = tf.keras.datasets.mnist\n",
        "(X_mnist_train, y_mnist_train), (X_mnist_test, y_mnist_test) = mnist.load_data()\n",
        "train_mnist_features = X_mnist_train/255\n",
        "test_mnist_features = X_mnist_test/255\n",
        "\n"
      ],
      "metadata": {
        "id": "2D1aoXp2Zw6X"
      },
      "execution_count": null,
      "outputs": []
    },
    {
      "cell_type": "code",
      "source": [
        "class MyMNISTModel(tf.keras.Model):\n",
        "    def __init__(self, num_classes):\n",
        "        super(MyMNISTModel, self).__init__(name='my_mnist_model')\n",
        "        self.num_classes = num_classes\n",
        "        self.flatten_1 = tf.keras.layers.Flatten()\n",
        "        self.dropout = tf.keras.layers.Dropout(0.1)\n",
        "        self.dense_1 = tf.keras.layers.Dense(50, activation='relu')\n",
        "        self.dense_2 = tf.keras.layers.Dense(10, activation='softmax')\n",
        "    def call(self, inputs, training=False):\n",
        "        x = self.flatten_1(inputs)\n",
        "        # Apply dropout only during the training phase\n",
        "        x = self.dense_1(x)\n",
        "        if training:\n",
        "            x = self.dropout(x, training=training)\n",
        "        return self.dense_2(x)"
      ],
      "metadata": {
        "id": "rSmY6iVsZ_NY"
      },
      "execution_count": null,
      "outputs": []
    },
    {
      "cell_type": "code",
      "source": [
        "my_mnist_model = MyMNISTModel(10)\n",
        "# Compile\n",
        "my_mnist_model.compile(optimizer='sgd',\n",
        "                      loss='sparse_categorical_crossentropy',\n",
        "                      metrics=['accuracy'])\n",
        "# Train\n",
        "my_mnist_model.fit(train_mnist_features, y_mnist_train,\n",
        "                  validation_data=(test_mnist_features, y_mnist_test),\n",
        "                  epochs=10)"
      ],
      "metadata": {
        "colab": {
          "base_uri": "https://localhost:8080/"
        },
        "id": "3Q6eEHO7aFCK",
        "outputId": "2a74569f-183d-4193-d82d-b387bf68a976"
      },
      "execution_count": null,
      "outputs": [
        {
          "output_type": "stream",
          "name": "stdout",
          "text": [
            "Epoch 1/10\n",
            "1875/1875 [==============================] - 6s 3ms/step - loss: 0.7625 - accuracy: 0.7908 - val_loss: 0.3771 - val_accuracy: 0.9025\n",
            "Epoch 2/10\n",
            "1875/1875 [==============================] - 5s 3ms/step - loss: 0.4049 - accuracy: 0.8837 - val_loss: 0.3059 - val_accuracy: 0.9137\n",
            "Epoch 3/10\n",
            "1875/1875 [==============================] - 5s 2ms/step - loss: 0.3416 - accuracy: 0.9021 - val_loss: 0.2703 - val_accuracy: 0.9255\n",
            "Epoch 4/10\n",
            "1875/1875 [==============================] - 5s 3ms/step - loss: 0.3069 - accuracy: 0.9116 - val_loss: 0.2488 - val_accuracy: 0.9306\n",
            "Epoch 5/10\n",
            "1875/1875 [==============================] - 5s 2ms/step - loss: 0.2817 - accuracy: 0.9188 - val_loss: 0.2303 - val_accuracy: 0.9362\n",
            "Epoch 6/10\n",
            "1875/1875 [==============================] - 5s 3ms/step - loss: 0.2630 - accuracy: 0.9243 - val_loss: 0.2154 - val_accuracy: 0.9408\n",
            "Epoch 7/10\n",
            "1875/1875 [==============================] - 5s 3ms/step - loss: 0.2470 - accuracy: 0.9300 - val_loss: 0.2082 - val_accuracy: 0.9409\n",
            "Epoch 8/10\n",
            "1875/1875 [==============================] - 4s 2ms/step - loss: 0.2350 - accuracy: 0.9323 - val_loss: 0.1932 - val_accuracy: 0.9447\n",
            "Epoch 9/10\n",
            "1875/1875 [==============================] - 6s 3ms/step - loss: 0.2243 - accuracy: 0.9356 - val_loss: 0.1867 - val_accuracy: 0.9463\n",
            "Epoch 10/10\n",
            "1875/1875 [==============================] - 5s 3ms/step - loss: 0.2156 - accuracy: 0.9382 - val_loss: 0.1797 - val_accuracy: 0.9480\n"
          ]
        },
        {
          "output_type": "execute_result",
          "data": {
            "text/plain": [
              "<keras.callbacks.History at 0x7f9f32b9d490>"
            ]
          },
          "metadata": {},
          "execution_count": 22
        }
      ]
    }
  ]
}