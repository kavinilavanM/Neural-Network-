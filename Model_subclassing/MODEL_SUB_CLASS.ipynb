{
  "nbformat": 4,
  "nbformat_minor": 0,
  "metadata": {
    "colab": {
      "private_outputs": true,
      "provenance": []
    },
    "kernelspec": {
      "name": "python3",
      "display_name": "Python 3"
    },
    "language_info": {
      "name": "python"
    }
  },
  "cells": [
    {
      "cell_type": "markdown",
      "source": [
        "# **MODEL SUB CLASS**"
      ],
      "metadata": {
        "id": "JTi4-MeGunGj"
      }
    },
    {
      "cell_type": "code",
      "execution_count": null,
      "metadata": {
        "id": "uEjIXH9ilxnI"
      },
      "outputs": [],
      "source": [
        "import tensorflow as tf\n",
        "from tensorflow import keras"
      ]
    },
    {
      "cell_type": "code",
      "source": [
        "tf.keras.Model()"
      ],
      "metadata": {
        "id": "xbPfrqhJpEu6"
      },
      "execution_count": null,
      "outputs": []
    },
    {
      "cell_type": "code",
      "source": [
        "class Mymodel(tf.keras.Model):\n",
        "#should define  layers in __init__()\n",
        "  def __init__(self):\n",
        "    super().__init__()\n",
        "    self.dense1=tf.keras.layers.Dense(4,activation=tf.nn.relu) # first layer\n",
        "    self.dense2=tf.keras.layers.Dense(5,activation=tf.nn.softmax) # second layer\n",
        "\n",
        "# implement the model's forward pass in call(). forward pro\n",
        "  def call(self,inputs):\n",
        "    x=self.dense1(inputs)\n",
        "    return self.dense2(x)"
      ],
      "metadata": {
        "id": "qcq0XSPfmxqn"
      },
      "execution_count": null,
      "outputs": []
    },
    {
      "cell_type": "code",
      "source": [
        "class Mymodel(tf.keras.Model):\n",
        "\n",
        "  def __init__(self):\n",
        "    super().__init__()\n",
        "    self.dense1=tf.keras.layers.Dense(4, activation=tf.nn.relu)\n",
        "    self.dense2=tf.keras.layers.Dense(6, activation= tf.nn.softmax)\n",
        "    self.dropout=tf.keras.layers.Dropout(0.5)\n",
        "\n",
        "  def call(self, inputs):\n",
        "    x=self.dense1(inputs)\n",
        "    if training:\n",
        "      x=self.dropout(x, training=training)\n",
        "    return self.dense2(x)\n"
      ],
      "metadata": {
        "id": "oPTZ73jgrbRU"
      },
      "execution_count": null,
      "outputs": []
    },
    {
      "cell_type": "markdown",
      "source": [
        "# **CUSTOM LAYERS**"
      ],
      "metadata": {
        "id": "cpo8i2MS-INY"
      }
    },
    {
      "cell_type": "code",
      "source": [
        "keras.layers.Layer()"
      ],
      "metadata": {
        "id": "lXuBpjL8BAWG"
      },
      "execution_count": null,
      "outputs": []
    },
    {
      "cell_type": "code",
      "source": [
        "class Linear(keras.layers.Layer):\n",
        "    def __init__(self, units=32, input_dim=32):\n",
        "        super(Linear, self).__init__()\n",
        "        w_init = tf.random_normal_initializer()\n",
        "        self.w = tf.Variable(\n",
        "            initial_value=w_init(shape=(input_dim, units), dtype=\"float32\"),\n",
        "            trainable=True,\n",
        "        )\n",
        "        b_init = tf.zeros_initializer()\n",
        "        self.b = tf.Variable(\n",
        "            initial_value=b_init(shape=(units,), dtype=\"float32\"), trainable=True\n",
        "        )\n",
        "\n",
        "    def call(self, inputs):\n",
        "        return tf.matmul(inputs, self.w) + self.b"
      ],
      "metadata": {
        "id": "38GFNplO-IYI"
      },
      "execution_count": null,
      "outputs": []
    }
  ]
}