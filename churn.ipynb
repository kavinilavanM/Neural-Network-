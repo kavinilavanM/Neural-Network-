{
  "nbformat": 4,
  "nbformat_minor": 0,
  "metadata": {
    "colab": {
      "name": "churn.ipynb",
      "provenance": [],
      "collapsed_sections": []
    },
    "kernelspec": {
      "name": "python3",
      "display_name": "Python 3"
    },
    "language_info": {
      "name": "python"
    }
  },
  "cells": [
    {
      "cell_type": "markdown",
      "source": [
        "Churn Prediction - Artificial Neural Network\n"
      ],
      "metadata": {
        "id": "gAZ-0F4AYArw"
      }
    },
    {
      "cell_type": "code",
      "source": [
        "import pandas as pd"
      ],
      "metadata": {
        "id": "dqc1En8vWtWA"
      },
      "execution_count": 2,
      "outputs": []
    },
    {
      "cell_type": "code",
      "execution_count": 3,
      "metadata": {
        "colab": {
          "base_uri": "https://localhost:8080/",
          "height": 238
        },
        "id": "OFJDSF_EWnWR",
        "outputId": "3c5b5715-05ea-4ee3-b500-7327fdf696a9"
      },
      "outputs": [
        {
          "output_type": "execute_result",
          "data": {
            "text/plain": [
              "           CustomerId   Surname  CreditScore Geography  Gender  Age  Tenure  \\\n",
              "RowNumber                                                                     \n",
              "1            15634602  Hargrave          619    France  Female   42       2   \n",
              "2            15647311      Hill          608     Spain  Female   41       1   \n",
              "3            15619304      Onio          502    France  Female   42       8   \n",
              "4            15701354      Boni          699    France  Female   39       1   \n",
              "5            15737888  Mitchell          850     Spain  Female   43       2   \n",
              "\n",
              "             Balance  NumOfProducts  HasCrCard  IsActiveMember  \\\n",
              "RowNumber                                                        \n",
              "1               0.00              1          1               1   \n",
              "2           83807.86              1          0               1   \n",
              "3          159660.80              3          1               0   \n",
              "4               0.00              2          0               0   \n",
              "5          125510.82              1          1               1   \n",
              "\n",
              "           EstimatedSalary  Exited  \n",
              "RowNumber                           \n",
              "1                101348.88       1  \n",
              "2                112542.58       0  \n",
              "3                113931.57       1  \n",
              "4                 93826.63       0  \n",
              "5                 79084.10       0  "
            ],
            "text/html": [
              "\n",
              "  <div id=\"df-0ada8bb3-7e8d-44e3-8242-781d31111d20\">\n",
              "    <div class=\"colab-df-container\">\n",
              "      <div>\n",
              "<style scoped>\n",
              "    .dataframe tbody tr th:only-of-type {\n",
              "        vertical-align: middle;\n",
              "    }\n",
              "\n",
              "    .dataframe tbody tr th {\n",
              "        vertical-align: top;\n",
              "    }\n",
              "\n",
              "    .dataframe thead th {\n",
              "        text-align: right;\n",
              "    }\n",
              "</style>\n",
              "<table border=\"1\" class=\"dataframe\">\n",
              "  <thead>\n",
              "    <tr style=\"text-align: right;\">\n",
              "      <th></th>\n",
              "      <th>CustomerId</th>\n",
              "      <th>Surname</th>\n",
              "      <th>CreditScore</th>\n",
              "      <th>Geography</th>\n",
              "      <th>Gender</th>\n",
              "      <th>Age</th>\n",
              "      <th>Tenure</th>\n",
              "      <th>Balance</th>\n",
              "      <th>NumOfProducts</th>\n",
              "      <th>HasCrCard</th>\n",
              "      <th>IsActiveMember</th>\n",
              "      <th>EstimatedSalary</th>\n",
              "      <th>Exited</th>\n",
              "    </tr>\n",
              "    <tr>\n",
              "      <th>RowNumber</th>\n",
              "      <th></th>\n",
              "      <th></th>\n",
              "      <th></th>\n",
              "      <th></th>\n",
              "      <th></th>\n",
              "      <th></th>\n",
              "      <th></th>\n",
              "      <th></th>\n",
              "      <th></th>\n",
              "      <th></th>\n",
              "      <th></th>\n",
              "      <th></th>\n",
              "      <th></th>\n",
              "    </tr>\n",
              "  </thead>\n",
              "  <tbody>\n",
              "    <tr>\n",
              "      <th>1</th>\n",
              "      <td>15634602</td>\n",
              "      <td>Hargrave</td>\n",
              "      <td>619</td>\n",
              "      <td>France</td>\n",
              "      <td>Female</td>\n",
              "      <td>42</td>\n",
              "      <td>2</td>\n",
              "      <td>0.00</td>\n",
              "      <td>1</td>\n",
              "      <td>1</td>\n",
              "      <td>1</td>\n",
              "      <td>101348.88</td>\n",
              "      <td>1</td>\n",
              "    </tr>\n",
              "    <tr>\n",
              "      <th>2</th>\n",
              "      <td>15647311</td>\n",
              "      <td>Hill</td>\n",
              "      <td>608</td>\n",
              "      <td>Spain</td>\n",
              "      <td>Female</td>\n",
              "      <td>41</td>\n",
              "      <td>1</td>\n",
              "      <td>83807.86</td>\n",
              "      <td>1</td>\n",
              "      <td>0</td>\n",
              "      <td>1</td>\n",
              "      <td>112542.58</td>\n",
              "      <td>0</td>\n",
              "    </tr>\n",
              "    <tr>\n",
              "      <th>3</th>\n",
              "      <td>15619304</td>\n",
              "      <td>Onio</td>\n",
              "      <td>502</td>\n",
              "      <td>France</td>\n",
              "      <td>Female</td>\n",
              "      <td>42</td>\n",
              "      <td>8</td>\n",
              "      <td>159660.80</td>\n",
              "      <td>3</td>\n",
              "      <td>1</td>\n",
              "      <td>0</td>\n",
              "      <td>113931.57</td>\n",
              "      <td>1</td>\n",
              "    </tr>\n",
              "    <tr>\n",
              "      <th>4</th>\n",
              "      <td>15701354</td>\n",
              "      <td>Boni</td>\n",
              "      <td>699</td>\n",
              "      <td>France</td>\n",
              "      <td>Female</td>\n",
              "      <td>39</td>\n",
              "      <td>1</td>\n",
              "      <td>0.00</td>\n",
              "      <td>2</td>\n",
              "      <td>0</td>\n",
              "      <td>0</td>\n",
              "      <td>93826.63</td>\n",
              "      <td>0</td>\n",
              "    </tr>\n",
              "    <tr>\n",
              "      <th>5</th>\n",
              "      <td>15737888</td>\n",
              "      <td>Mitchell</td>\n",
              "      <td>850</td>\n",
              "      <td>Spain</td>\n",
              "      <td>Female</td>\n",
              "      <td>43</td>\n",
              "      <td>2</td>\n",
              "      <td>125510.82</td>\n",
              "      <td>1</td>\n",
              "      <td>1</td>\n",
              "      <td>1</td>\n",
              "      <td>79084.10</td>\n",
              "      <td>0</td>\n",
              "    </tr>\n",
              "  </tbody>\n",
              "</table>\n",
              "</div>\n",
              "      <button class=\"colab-df-convert\" onclick=\"convertToInteractive('df-0ada8bb3-7e8d-44e3-8242-781d31111d20')\"\n",
              "              title=\"Convert this dataframe to an interactive table.\"\n",
              "              style=\"display:none;\">\n",
              "        \n",
              "  <svg xmlns=\"http://www.w3.org/2000/svg\" height=\"24px\"viewBox=\"0 0 24 24\"\n",
              "       width=\"24px\">\n",
              "    <path d=\"M0 0h24v24H0V0z\" fill=\"none\"/>\n",
              "    <path d=\"M18.56 5.44l.94 2.06.94-2.06 2.06-.94-2.06-.94-.94-2.06-.94 2.06-2.06.94zm-11 1L8.5 8.5l.94-2.06 2.06-.94-2.06-.94L8.5 2.5l-.94 2.06-2.06.94zm10 10l.94 2.06.94-2.06 2.06-.94-2.06-.94-.94-2.06-.94 2.06-2.06.94z\"/><path d=\"M17.41 7.96l-1.37-1.37c-.4-.4-.92-.59-1.43-.59-.52 0-1.04.2-1.43.59L10.3 9.45l-7.72 7.72c-.78.78-.78 2.05 0 2.83L4 21.41c.39.39.9.59 1.41.59.51 0 1.02-.2 1.41-.59l7.78-7.78 2.81-2.81c.8-.78.8-2.07 0-2.86zM5.41 20L4 18.59l7.72-7.72 1.47 1.35L5.41 20z\"/>\n",
              "  </svg>\n",
              "      </button>\n",
              "      \n",
              "  <style>\n",
              "    .colab-df-container {\n",
              "      display:flex;\n",
              "      flex-wrap:wrap;\n",
              "      gap: 12px;\n",
              "    }\n",
              "\n",
              "    .colab-df-convert {\n",
              "      background-color: #E8F0FE;\n",
              "      border: none;\n",
              "      border-radius: 50%;\n",
              "      cursor: pointer;\n",
              "      display: none;\n",
              "      fill: #1967D2;\n",
              "      height: 32px;\n",
              "      padding: 0 0 0 0;\n",
              "      width: 32px;\n",
              "    }\n",
              "\n",
              "    .colab-df-convert:hover {\n",
              "      background-color: #E2EBFA;\n",
              "      box-shadow: 0px 1px 2px rgba(60, 64, 67, 0.3), 0px 1px 3px 1px rgba(60, 64, 67, 0.15);\n",
              "      fill: #174EA6;\n",
              "    }\n",
              "\n",
              "    [theme=dark] .colab-df-convert {\n",
              "      background-color: #3B4455;\n",
              "      fill: #D2E3FC;\n",
              "    }\n",
              "\n",
              "    [theme=dark] .colab-df-convert:hover {\n",
              "      background-color: #434B5C;\n",
              "      box-shadow: 0px 1px 3px 1px rgba(0, 0, 0, 0.15);\n",
              "      filter: drop-shadow(0px 1px 2px rgba(0, 0, 0, 0.3));\n",
              "      fill: #FFFFFF;\n",
              "    }\n",
              "  </style>\n",
              "\n",
              "      <script>\n",
              "        const buttonEl =\n",
              "          document.querySelector('#df-0ada8bb3-7e8d-44e3-8242-781d31111d20 button.colab-df-convert');\n",
              "        buttonEl.style.display =\n",
              "          google.colab.kernel.accessAllowed ? 'block' : 'none';\n",
              "\n",
              "        async function convertToInteractive(key) {\n",
              "          const element = document.querySelector('#df-0ada8bb3-7e8d-44e3-8242-781d31111d20');\n",
              "          const dataTable =\n",
              "            await google.colab.kernel.invokeFunction('convertToInteractive',\n",
              "                                                     [key], {});\n",
              "          if (!dataTable) return;\n",
              "\n",
              "          const docLinkHtml = 'Like what you see? Visit the ' +\n",
              "            '<a target=\"_blank\" href=https://colab.research.google.com/notebooks/data_table.ipynb>data table notebook</a>'\n",
              "            + ' to learn more about interactive tables.';\n",
              "          element.innerHTML = '';\n",
              "          dataTable['output_type'] = 'display_data';\n",
              "          await google.colab.output.renderOutput(dataTable, element);\n",
              "          const docLink = document.createElement('div');\n",
              "          docLink.innerHTML = docLinkHtml;\n",
              "          element.appendChild(docLink);\n",
              "        }\n",
              "      </script>\n",
              "    </div>\n",
              "  </div>\n",
              "  "
            ]
          },
          "metadata": {},
          "execution_count": 3
        }
      ],
      "source": [
        "\n",
        "# Importing the dataset\n",
        "data = pd.read_csv('Churn_Modelling (2).csv',index_col='RowNumber')\n",
        "data.head()"
      ]
    },
    {
      "cell_type": "code",
      "source": [
        "data.info()"
      ],
      "metadata": {
        "colab": {
          "base_uri": "https://localhost:8080/"
        },
        "id": "Mla1lXqJXjbZ",
        "outputId": "82fb40a6-0ae7-4d56-e1fc-892e872fdae8"
      },
      "execution_count": 4,
      "outputs": [
        {
          "output_type": "stream",
          "name": "stdout",
          "text": [
            "<class 'pandas.core.frame.DataFrame'>\n",
            "Int64Index: 10000 entries, 1 to 10000\n",
            "Data columns (total 13 columns):\n",
            " #   Column           Non-Null Count  Dtype  \n",
            "---  ------           --------------  -----  \n",
            " 0   CustomerId       10000 non-null  int64  \n",
            " 1   Surname          10000 non-null  object \n",
            " 2   CreditScore      10000 non-null  int64  \n",
            " 3   Geography        10000 non-null  object \n",
            " 4   Gender           10000 non-null  object \n",
            " 5   Age              10000 non-null  int64  \n",
            " 6   Tenure           10000 non-null  int64  \n",
            " 7   Balance          10000 non-null  float64\n",
            " 8   NumOfProducts    10000 non-null  int64  \n",
            " 9   HasCrCard        10000 non-null  int64  \n",
            " 10  IsActiveMember   10000 non-null  int64  \n",
            " 11  EstimatedSalary  10000 non-null  float64\n",
            " 12  Exited           10000 non-null  int64  \n",
            "dtypes: float64(2), int64(8), object(3)\n",
            "memory usage: 1.1+ MB\n"
          ]
        }
      ]
    },
    {
      "cell_type": "code",
      "source": [
        "data.describe()"
      ],
      "metadata": {
        "colab": {
          "base_uri": "https://localhost:8080/",
          "height": 300
        },
        "id": "bCILDXRhXjd2",
        "outputId": "07bcde90-50fc-4ad4-ba8b-3428ee17528e"
      },
      "execution_count": 5,
      "outputs": [
        {
          "output_type": "execute_result",
          "data": {
            "text/plain": [
              "         CustomerId   CreditScore           Age        Tenure        Balance  \\\n",
              "count  1.000000e+04  10000.000000  10000.000000  10000.000000   10000.000000   \n",
              "mean   1.569094e+07    650.528800     38.921800      5.012800   76485.889288   \n",
              "std    7.193619e+04     96.653299     10.487806      2.892174   62397.405202   \n",
              "min    1.556570e+07    350.000000     18.000000      0.000000       0.000000   \n",
              "25%    1.562853e+07    584.000000     32.000000      3.000000       0.000000   \n",
              "50%    1.569074e+07    652.000000     37.000000      5.000000   97198.540000   \n",
              "75%    1.575323e+07    718.000000     44.000000      7.000000  127644.240000   \n",
              "max    1.581569e+07    850.000000     92.000000     10.000000  250898.090000   \n",
              "\n",
              "       NumOfProducts    HasCrCard  IsActiveMember  EstimatedSalary  \\\n",
              "count   10000.000000  10000.00000    10000.000000     10000.000000   \n",
              "mean        1.530200      0.70550        0.515100    100090.239881   \n",
              "std         0.581654      0.45584        0.499797     57510.492818   \n",
              "min         1.000000      0.00000        0.000000        11.580000   \n",
              "25%         1.000000      0.00000        0.000000     51002.110000   \n",
              "50%         1.000000      1.00000        1.000000    100193.915000   \n",
              "75%         2.000000      1.00000        1.000000    149388.247500   \n",
              "max         4.000000      1.00000        1.000000    199992.480000   \n",
              "\n",
              "             Exited  \n",
              "count  10000.000000  \n",
              "mean       0.203700  \n",
              "std        0.402769  \n",
              "min        0.000000  \n",
              "25%        0.000000  \n",
              "50%        0.000000  \n",
              "75%        0.000000  \n",
              "max        1.000000  "
            ],
            "text/html": [
              "\n",
              "  <div id=\"df-6780b50b-50cb-4413-bbe0-b84af73dbe17\">\n",
              "    <div class=\"colab-df-container\">\n",
              "      <div>\n",
              "<style scoped>\n",
              "    .dataframe tbody tr th:only-of-type {\n",
              "        vertical-align: middle;\n",
              "    }\n",
              "\n",
              "    .dataframe tbody tr th {\n",
              "        vertical-align: top;\n",
              "    }\n",
              "\n",
              "    .dataframe thead th {\n",
              "        text-align: right;\n",
              "    }\n",
              "</style>\n",
              "<table border=\"1\" class=\"dataframe\">\n",
              "  <thead>\n",
              "    <tr style=\"text-align: right;\">\n",
              "      <th></th>\n",
              "      <th>CustomerId</th>\n",
              "      <th>CreditScore</th>\n",
              "      <th>Age</th>\n",
              "      <th>Tenure</th>\n",
              "      <th>Balance</th>\n",
              "      <th>NumOfProducts</th>\n",
              "      <th>HasCrCard</th>\n",
              "      <th>IsActiveMember</th>\n",
              "      <th>EstimatedSalary</th>\n",
              "      <th>Exited</th>\n",
              "    </tr>\n",
              "  </thead>\n",
              "  <tbody>\n",
              "    <tr>\n",
              "      <th>count</th>\n",
              "      <td>1.000000e+04</td>\n",
              "      <td>10000.000000</td>\n",
              "      <td>10000.000000</td>\n",
              "      <td>10000.000000</td>\n",
              "      <td>10000.000000</td>\n",
              "      <td>10000.000000</td>\n",
              "      <td>10000.00000</td>\n",
              "      <td>10000.000000</td>\n",
              "      <td>10000.000000</td>\n",
              "      <td>10000.000000</td>\n",
              "    </tr>\n",
              "    <tr>\n",
              "      <th>mean</th>\n",
              "      <td>1.569094e+07</td>\n",
              "      <td>650.528800</td>\n",
              "      <td>38.921800</td>\n",
              "      <td>5.012800</td>\n",
              "      <td>76485.889288</td>\n",
              "      <td>1.530200</td>\n",
              "      <td>0.70550</td>\n",
              "      <td>0.515100</td>\n",
              "      <td>100090.239881</td>\n",
              "      <td>0.203700</td>\n",
              "    </tr>\n",
              "    <tr>\n",
              "      <th>std</th>\n",
              "      <td>7.193619e+04</td>\n",
              "      <td>96.653299</td>\n",
              "      <td>10.487806</td>\n",
              "      <td>2.892174</td>\n",
              "      <td>62397.405202</td>\n",
              "      <td>0.581654</td>\n",
              "      <td>0.45584</td>\n",
              "      <td>0.499797</td>\n",
              "      <td>57510.492818</td>\n",
              "      <td>0.402769</td>\n",
              "    </tr>\n",
              "    <tr>\n",
              "      <th>min</th>\n",
              "      <td>1.556570e+07</td>\n",
              "      <td>350.000000</td>\n",
              "      <td>18.000000</td>\n",
              "      <td>0.000000</td>\n",
              "      <td>0.000000</td>\n",
              "      <td>1.000000</td>\n",
              "      <td>0.00000</td>\n",
              "      <td>0.000000</td>\n",
              "      <td>11.580000</td>\n",
              "      <td>0.000000</td>\n",
              "    </tr>\n",
              "    <tr>\n",
              "      <th>25%</th>\n",
              "      <td>1.562853e+07</td>\n",
              "      <td>584.000000</td>\n",
              "      <td>32.000000</td>\n",
              "      <td>3.000000</td>\n",
              "      <td>0.000000</td>\n",
              "      <td>1.000000</td>\n",
              "      <td>0.00000</td>\n",
              "      <td>0.000000</td>\n",
              "      <td>51002.110000</td>\n",
              "      <td>0.000000</td>\n",
              "    </tr>\n",
              "    <tr>\n",
              "      <th>50%</th>\n",
              "      <td>1.569074e+07</td>\n",
              "      <td>652.000000</td>\n",
              "      <td>37.000000</td>\n",
              "      <td>5.000000</td>\n",
              "      <td>97198.540000</td>\n",
              "      <td>1.000000</td>\n",
              "      <td>1.00000</td>\n",
              "      <td>1.000000</td>\n",
              "      <td>100193.915000</td>\n",
              "      <td>0.000000</td>\n",
              "    </tr>\n",
              "    <tr>\n",
              "      <th>75%</th>\n",
              "      <td>1.575323e+07</td>\n",
              "      <td>718.000000</td>\n",
              "      <td>44.000000</td>\n",
              "      <td>7.000000</td>\n",
              "      <td>127644.240000</td>\n",
              "      <td>2.000000</td>\n",
              "      <td>1.00000</td>\n",
              "      <td>1.000000</td>\n",
              "      <td>149388.247500</td>\n",
              "      <td>0.000000</td>\n",
              "    </tr>\n",
              "    <tr>\n",
              "      <th>max</th>\n",
              "      <td>1.581569e+07</td>\n",
              "      <td>850.000000</td>\n",
              "      <td>92.000000</td>\n",
              "      <td>10.000000</td>\n",
              "      <td>250898.090000</td>\n",
              "      <td>4.000000</td>\n",
              "      <td>1.00000</td>\n",
              "      <td>1.000000</td>\n",
              "      <td>199992.480000</td>\n",
              "      <td>1.000000</td>\n",
              "    </tr>\n",
              "  </tbody>\n",
              "</table>\n",
              "</div>\n",
              "      <button class=\"colab-df-convert\" onclick=\"convertToInteractive('df-6780b50b-50cb-4413-bbe0-b84af73dbe17')\"\n",
              "              title=\"Convert this dataframe to an interactive table.\"\n",
              "              style=\"display:none;\">\n",
              "        \n",
              "  <svg xmlns=\"http://www.w3.org/2000/svg\" height=\"24px\"viewBox=\"0 0 24 24\"\n",
              "       width=\"24px\">\n",
              "    <path d=\"M0 0h24v24H0V0z\" fill=\"none\"/>\n",
              "    <path d=\"M18.56 5.44l.94 2.06.94-2.06 2.06-.94-2.06-.94-.94-2.06-.94 2.06-2.06.94zm-11 1L8.5 8.5l.94-2.06 2.06-.94-2.06-.94L8.5 2.5l-.94 2.06-2.06.94zm10 10l.94 2.06.94-2.06 2.06-.94-2.06-.94-.94-2.06-.94 2.06-2.06.94z\"/><path d=\"M17.41 7.96l-1.37-1.37c-.4-.4-.92-.59-1.43-.59-.52 0-1.04.2-1.43.59L10.3 9.45l-7.72 7.72c-.78.78-.78 2.05 0 2.83L4 21.41c.39.39.9.59 1.41.59.51 0 1.02-.2 1.41-.59l7.78-7.78 2.81-2.81c.8-.78.8-2.07 0-2.86zM5.41 20L4 18.59l7.72-7.72 1.47 1.35L5.41 20z\"/>\n",
              "  </svg>\n",
              "      </button>\n",
              "      \n",
              "  <style>\n",
              "    .colab-df-container {\n",
              "      display:flex;\n",
              "      flex-wrap:wrap;\n",
              "      gap: 12px;\n",
              "    }\n",
              "\n",
              "    .colab-df-convert {\n",
              "      background-color: #E8F0FE;\n",
              "      border: none;\n",
              "      border-radius: 50%;\n",
              "      cursor: pointer;\n",
              "      display: none;\n",
              "      fill: #1967D2;\n",
              "      height: 32px;\n",
              "      padding: 0 0 0 0;\n",
              "      width: 32px;\n",
              "    }\n",
              "\n",
              "    .colab-df-convert:hover {\n",
              "      background-color: #E2EBFA;\n",
              "      box-shadow: 0px 1px 2px rgba(60, 64, 67, 0.3), 0px 1px 3px 1px rgba(60, 64, 67, 0.15);\n",
              "      fill: #174EA6;\n",
              "    }\n",
              "\n",
              "    [theme=dark] .colab-df-convert {\n",
              "      background-color: #3B4455;\n",
              "      fill: #D2E3FC;\n",
              "    }\n",
              "\n",
              "    [theme=dark] .colab-df-convert:hover {\n",
              "      background-color: #434B5C;\n",
              "      box-shadow: 0px 1px 3px 1px rgba(0, 0, 0, 0.15);\n",
              "      filter: drop-shadow(0px 1px 2px rgba(0, 0, 0, 0.3));\n",
              "      fill: #FFFFFF;\n",
              "    }\n",
              "  </style>\n",
              "\n",
              "      <script>\n",
              "        const buttonEl =\n",
              "          document.querySelector('#df-6780b50b-50cb-4413-bbe0-b84af73dbe17 button.colab-df-convert');\n",
              "        buttonEl.style.display =\n",
              "          google.colab.kernel.accessAllowed ? 'block' : 'none';\n",
              "\n",
              "        async function convertToInteractive(key) {\n",
              "          const element = document.querySelector('#df-6780b50b-50cb-4413-bbe0-b84af73dbe17');\n",
              "          const dataTable =\n",
              "            await google.colab.kernel.invokeFunction('convertToInteractive',\n",
              "                                                     [key], {});\n",
              "          if (!dataTable) return;\n",
              "\n",
              "          const docLinkHtml = 'Like what you see? Visit the ' +\n",
              "            '<a target=\"_blank\" href=https://colab.research.google.com/notebooks/data_table.ipynb>data table notebook</a>'\n",
              "            + ' to learn more about interactive tables.';\n",
              "          element.innerHTML = '';\n",
              "          dataTable['output_type'] = 'display_data';\n",
              "          await google.colab.output.renderOutput(dataTable, element);\n",
              "          const docLink = document.createElement('div');\n",
              "          docLink.innerHTML = docLinkHtml;\n",
              "          element.appendChild(docLink);\n",
              "        }\n",
              "      </script>\n",
              "    </div>\n",
              "  </div>\n",
              "  "
            ]
          },
          "metadata": {},
          "execution_count": 5
        }
      ]
    },
    {
      "cell_type": "code",
      "source": [
        "# some columns are unwanted so let's remove them\n",
        "data.drop(['CustomerId','Surname'],axis=1,inplace=True)"
      ],
      "metadata": {
        "id": "Gp0i8hmQXjgY"
      },
      "execution_count": 6,
      "outputs": []
    },
    {
      "cell_type": "code",
      "source": [
        "# One hot encoding - convert text into number\n",
        "Geography_dum = pd.get_dummies(data=data,columns=['Geography'])"
      ],
      "metadata": {
        "id": "4ivU8IHsXjiz"
      },
      "execution_count": 7,
      "outputs": []
    },
    {
      "cell_type": "code",
      "source": [
        "Geography_dum.head()"
      ],
      "metadata": {
        "colab": {
          "base_uri": "https://localhost:8080/",
          "height": 238
        },
        "id": "aQC7MmILXjkk",
        "outputId": "5ec0a728-6dbf-4271-b7f3-0ecc5f0def13"
      },
      "execution_count": 8,
      "outputs": [
        {
          "output_type": "execute_result",
          "data": {
            "text/plain": [
              "           CreditScore  Gender  Age  Tenure    Balance  NumOfProducts  \\\n",
              "RowNumber                                                               \n",
              "1                  619  Female   42       2       0.00              1   \n",
              "2                  608  Female   41       1   83807.86              1   \n",
              "3                  502  Female   42       8  159660.80              3   \n",
              "4                  699  Female   39       1       0.00              2   \n",
              "5                  850  Female   43       2  125510.82              1   \n",
              "\n",
              "           HasCrCard  IsActiveMember  EstimatedSalary  Exited  \\\n",
              "RowNumber                                                       \n",
              "1                  1               1        101348.88       1   \n",
              "2                  0               1        112542.58       0   \n",
              "3                  1               0        113931.57       1   \n",
              "4                  0               0         93826.63       0   \n",
              "5                  1               1         79084.10       0   \n",
              "\n",
              "           Geography_France  Geography_Germany  Geography_Spain  \n",
              "RowNumber                                                        \n",
              "1                         1                  0                0  \n",
              "2                         0                  0                1  \n",
              "3                         1                  0                0  \n",
              "4                         1                  0                0  \n",
              "5                         0                  0                1  "
            ],
            "text/html": [
              "\n",
              "  <div id=\"df-bcd80d7c-cbc8-4923-bf6d-f1da29ecc511\">\n",
              "    <div class=\"colab-df-container\">\n",
              "      <div>\n",
              "<style scoped>\n",
              "    .dataframe tbody tr th:only-of-type {\n",
              "        vertical-align: middle;\n",
              "    }\n",
              "\n",
              "    .dataframe tbody tr th {\n",
              "        vertical-align: top;\n",
              "    }\n",
              "\n",
              "    .dataframe thead th {\n",
              "        text-align: right;\n",
              "    }\n",
              "</style>\n",
              "<table border=\"1\" class=\"dataframe\">\n",
              "  <thead>\n",
              "    <tr style=\"text-align: right;\">\n",
              "      <th></th>\n",
              "      <th>CreditScore</th>\n",
              "      <th>Gender</th>\n",
              "      <th>Age</th>\n",
              "      <th>Tenure</th>\n",
              "      <th>Balance</th>\n",
              "      <th>NumOfProducts</th>\n",
              "      <th>HasCrCard</th>\n",
              "      <th>IsActiveMember</th>\n",
              "      <th>EstimatedSalary</th>\n",
              "      <th>Exited</th>\n",
              "      <th>Geography_France</th>\n",
              "      <th>Geography_Germany</th>\n",
              "      <th>Geography_Spain</th>\n",
              "    </tr>\n",
              "    <tr>\n",
              "      <th>RowNumber</th>\n",
              "      <th></th>\n",
              "      <th></th>\n",
              "      <th></th>\n",
              "      <th></th>\n",
              "      <th></th>\n",
              "      <th></th>\n",
              "      <th></th>\n",
              "      <th></th>\n",
              "      <th></th>\n",
              "      <th></th>\n",
              "      <th></th>\n",
              "      <th></th>\n",
              "      <th></th>\n",
              "    </tr>\n",
              "  </thead>\n",
              "  <tbody>\n",
              "    <tr>\n",
              "      <th>1</th>\n",
              "      <td>619</td>\n",
              "      <td>Female</td>\n",
              "      <td>42</td>\n",
              "      <td>2</td>\n",
              "      <td>0.00</td>\n",
              "      <td>1</td>\n",
              "      <td>1</td>\n",
              "      <td>1</td>\n",
              "      <td>101348.88</td>\n",
              "      <td>1</td>\n",
              "      <td>1</td>\n",
              "      <td>0</td>\n",
              "      <td>0</td>\n",
              "    </tr>\n",
              "    <tr>\n",
              "      <th>2</th>\n",
              "      <td>608</td>\n",
              "      <td>Female</td>\n",
              "      <td>41</td>\n",
              "      <td>1</td>\n",
              "      <td>83807.86</td>\n",
              "      <td>1</td>\n",
              "      <td>0</td>\n",
              "      <td>1</td>\n",
              "      <td>112542.58</td>\n",
              "      <td>0</td>\n",
              "      <td>0</td>\n",
              "      <td>0</td>\n",
              "      <td>1</td>\n",
              "    </tr>\n",
              "    <tr>\n",
              "      <th>3</th>\n",
              "      <td>502</td>\n",
              "      <td>Female</td>\n",
              "      <td>42</td>\n",
              "      <td>8</td>\n",
              "      <td>159660.80</td>\n",
              "      <td>3</td>\n",
              "      <td>1</td>\n",
              "      <td>0</td>\n",
              "      <td>113931.57</td>\n",
              "      <td>1</td>\n",
              "      <td>1</td>\n",
              "      <td>0</td>\n",
              "      <td>0</td>\n",
              "    </tr>\n",
              "    <tr>\n",
              "      <th>4</th>\n",
              "      <td>699</td>\n",
              "      <td>Female</td>\n",
              "      <td>39</td>\n",
              "      <td>1</td>\n",
              "      <td>0.00</td>\n",
              "      <td>2</td>\n",
              "      <td>0</td>\n",
              "      <td>0</td>\n",
              "      <td>93826.63</td>\n",
              "      <td>0</td>\n",
              "      <td>1</td>\n",
              "      <td>0</td>\n",
              "      <td>0</td>\n",
              "    </tr>\n",
              "    <tr>\n",
              "      <th>5</th>\n",
              "      <td>850</td>\n",
              "      <td>Female</td>\n",
              "      <td>43</td>\n",
              "      <td>2</td>\n",
              "      <td>125510.82</td>\n",
              "      <td>1</td>\n",
              "      <td>1</td>\n",
              "      <td>1</td>\n",
              "      <td>79084.10</td>\n",
              "      <td>0</td>\n",
              "      <td>0</td>\n",
              "      <td>0</td>\n",
              "      <td>1</td>\n",
              "    </tr>\n",
              "  </tbody>\n",
              "</table>\n",
              "</div>\n",
              "      <button class=\"colab-df-convert\" onclick=\"convertToInteractive('df-bcd80d7c-cbc8-4923-bf6d-f1da29ecc511')\"\n",
              "              title=\"Convert this dataframe to an interactive table.\"\n",
              "              style=\"display:none;\">\n",
              "        \n",
              "  <svg xmlns=\"http://www.w3.org/2000/svg\" height=\"24px\"viewBox=\"0 0 24 24\"\n",
              "       width=\"24px\">\n",
              "    <path d=\"M0 0h24v24H0V0z\" fill=\"none\"/>\n",
              "    <path d=\"M18.56 5.44l.94 2.06.94-2.06 2.06-.94-2.06-.94-.94-2.06-.94 2.06-2.06.94zm-11 1L8.5 8.5l.94-2.06 2.06-.94-2.06-.94L8.5 2.5l-.94 2.06-2.06.94zm10 10l.94 2.06.94-2.06 2.06-.94-2.06-.94-.94-2.06-.94 2.06-2.06.94z\"/><path d=\"M17.41 7.96l-1.37-1.37c-.4-.4-.92-.59-1.43-.59-.52 0-1.04.2-1.43.59L10.3 9.45l-7.72 7.72c-.78.78-.78 2.05 0 2.83L4 21.41c.39.39.9.59 1.41.59.51 0 1.02-.2 1.41-.59l7.78-7.78 2.81-2.81c.8-.78.8-2.07 0-2.86zM5.41 20L4 18.59l7.72-7.72 1.47 1.35L5.41 20z\"/>\n",
              "  </svg>\n",
              "      </button>\n",
              "      \n",
              "  <style>\n",
              "    .colab-df-container {\n",
              "      display:flex;\n",
              "      flex-wrap:wrap;\n",
              "      gap: 12px;\n",
              "    }\n",
              "\n",
              "    .colab-df-convert {\n",
              "      background-color: #E8F0FE;\n",
              "      border: none;\n",
              "      border-radius: 50%;\n",
              "      cursor: pointer;\n",
              "      display: none;\n",
              "      fill: #1967D2;\n",
              "      height: 32px;\n",
              "      padding: 0 0 0 0;\n",
              "      width: 32px;\n",
              "    }\n",
              "\n",
              "    .colab-df-convert:hover {\n",
              "      background-color: #E2EBFA;\n",
              "      box-shadow: 0px 1px 2px rgba(60, 64, 67, 0.3), 0px 1px 3px 1px rgba(60, 64, 67, 0.15);\n",
              "      fill: #174EA6;\n",
              "    }\n",
              "\n",
              "    [theme=dark] .colab-df-convert {\n",
              "      background-color: #3B4455;\n",
              "      fill: #D2E3FC;\n",
              "    }\n",
              "\n",
              "    [theme=dark] .colab-df-convert:hover {\n",
              "      background-color: #434B5C;\n",
              "      box-shadow: 0px 1px 3px 1px rgba(0, 0, 0, 0.15);\n",
              "      filter: drop-shadow(0px 1px 2px rgba(0, 0, 0, 0.3));\n",
              "      fill: #FFFFFF;\n",
              "    }\n",
              "  </style>\n",
              "\n",
              "      <script>\n",
              "        const buttonEl =\n",
              "          document.querySelector('#df-bcd80d7c-cbc8-4923-bf6d-f1da29ecc511 button.colab-df-convert');\n",
              "        buttonEl.style.display =\n",
              "          google.colab.kernel.accessAllowed ? 'block' : 'none';\n",
              "\n",
              "        async function convertToInteractive(key) {\n",
              "          const element = document.querySelector('#df-bcd80d7c-cbc8-4923-bf6d-f1da29ecc511');\n",
              "          const dataTable =\n",
              "            await google.colab.kernel.invokeFunction('convertToInteractive',\n",
              "                                                     [key], {});\n",
              "          if (!dataTable) return;\n",
              "\n",
              "          const docLinkHtml = 'Like what you see? Visit the ' +\n",
              "            '<a target=\"_blank\" href=https://colab.research.google.com/notebooks/data_table.ipynb>data table notebook</a>'\n",
              "            + ' to learn more about interactive tables.';\n",
              "          element.innerHTML = '';\n",
              "          dataTable['output_type'] = 'display_data';\n",
              "          await google.colab.output.renderOutput(dataTable, element);\n",
              "          const docLink = document.createElement('div');\n",
              "          docLink.innerHTML = docLinkHtml;\n",
              "          element.appendChild(docLink);\n",
              "        }\n",
              "      </script>\n",
              "    </div>\n",
              "  </div>\n",
              "  "
            ]
          },
          "metadata": {},
          "execution_count": 8
        }
      ]
    },
    {
      "cell_type": "code",
      "source": [
        "Gender_dum = Geography_dum.replace(to_replace={'Gender': {'Female': 1,'Male':0}})"
      ],
      "metadata": {
        "id": "oSZ7_YORXjmf"
      },
      "execution_count": 9,
      "outputs": []
    },
    {
      "cell_type": "code",
      "source": [
        "Geography_dum.head()"
      ],
      "metadata": {
        "colab": {
          "base_uri": "https://localhost:8080/",
          "height": 238
        },
        "id": "p7Ft-38GXjp-",
        "outputId": "85dc8dd0-2720-4f67-b12f-efb92abaf9e8"
      },
      "execution_count": 10,
      "outputs": [
        {
          "output_type": "execute_result",
          "data": {
            "text/plain": [
              "           CreditScore  Gender  Age  Tenure    Balance  NumOfProducts  \\\n",
              "RowNumber                                                               \n",
              "1                  619  Female   42       2       0.00              1   \n",
              "2                  608  Female   41       1   83807.86              1   \n",
              "3                  502  Female   42       8  159660.80              3   \n",
              "4                  699  Female   39       1       0.00              2   \n",
              "5                  850  Female   43       2  125510.82              1   \n",
              "\n",
              "           HasCrCard  IsActiveMember  EstimatedSalary  Exited  \\\n",
              "RowNumber                                                       \n",
              "1                  1               1        101348.88       1   \n",
              "2                  0               1        112542.58       0   \n",
              "3                  1               0        113931.57       1   \n",
              "4                  0               0         93826.63       0   \n",
              "5                  1               1         79084.10       0   \n",
              "\n",
              "           Geography_France  Geography_Germany  Geography_Spain  \n",
              "RowNumber                                                        \n",
              "1                         1                  0                0  \n",
              "2                         0                  0                1  \n",
              "3                         1                  0                0  \n",
              "4                         1                  0                0  \n",
              "5                         0                  0                1  "
            ],
            "text/html": [
              "\n",
              "  <div id=\"df-7d5ed8bb-afe0-4f36-925e-a9e3270f3508\">\n",
              "    <div class=\"colab-df-container\">\n",
              "      <div>\n",
              "<style scoped>\n",
              "    .dataframe tbody tr th:only-of-type {\n",
              "        vertical-align: middle;\n",
              "    }\n",
              "\n",
              "    .dataframe tbody tr th {\n",
              "        vertical-align: top;\n",
              "    }\n",
              "\n",
              "    .dataframe thead th {\n",
              "        text-align: right;\n",
              "    }\n",
              "</style>\n",
              "<table border=\"1\" class=\"dataframe\">\n",
              "  <thead>\n",
              "    <tr style=\"text-align: right;\">\n",
              "      <th></th>\n",
              "      <th>CreditScore</th>\n",
              "      <th>Gender</th>\n",
              "      <th>Age</th>\n",
              "      <th>Tenure</th>\n",
              "      <th>Balance</th>\n",
              "      <th>NumOfProducts</th>\n",
              "      <th>HasCrCard</th>\n",
              "      <th>IsActiveMember</th>\n",
              "      <th>EstimatedSalary</th>\n",
              "      <th>Exited</th>\n",
              "      <th>Geography_France</th>\n",
              "      <th>Geography_Germany</th>\n",
              "      <th>Geography_Spain</th>\n",
              "    </tr>\n",
              "    <tr>\n",
              "      <th>RowNumber</th>\n",
              "      <th></th>\n",
              "      <th></th>\n",
              "      <th></th>\n",
              "      <th></th>\n",
              "      <th></th>\n",
              "      <th></th>\n",
              "      <th></th>\n",
              "      <th></th>\n",
              "      <th></th>\n",
              "      <th></th>\n",
              "      <th></th>\n",
              "      <th></th>\n",
              "      <th></th>\n",
              "    </tr>\n",
              "  </thead>\n",
              "  <tbody>\n",
              "    <tr>\n",
              "      <th>1</th>\n",
              "      <td>619</td>\n",
              "      <td>Female</td>\n",
              "      <td>42</td>\n",
              "      <td>2</td>\n",
              "      <td>0.00</td>\n",
              "      <td>1</td>\n",
              "      <td>1</td>\n",
              "      <td>1</td>\n",
              "      <td>101348.88</td>\n",
              "      <td>1</td>\n",
              "      <td>1</td>\n",
              "      <td>0</td>\n",
              "      <td>0</td>\n",
              "    </tr>\n",
              "    <tr>\n",
              "      <th>2</th>\n",
              "      <td>608</td>\n",
              "      <td>Female</td>\n",
              "      <td>41</td>\n",
              "      <td>1</td>\n",
              "      <td>83807.86</td>\n",
              "      <td>1</td>\n",
              "      <td>0</td>\n",
              "      <td>1</td>\n",
              "      <td>112542.58</td>\n",
              "      <td>0</td>\n",
              "      <td>0</td>\n",
              "      <td>0</td>\n",
              "      <td>1</td>\n",
              "    </tr>\n",
              "    <tr>\n",
              "      <th>3</th>\n",
              "      <td>502</td>\n",
              "      <td>Female</td>\n",
              "      <td>42</td>\n",
              "      <td>8</td>\n",
              "      <td>159660.80</td>\n",
              "      <td>3</td>\n",
              "      <td>1</td>\n",
              "      <td>0</td>\n",
              "      <td>113931.57</td>\n",
              "      <td>1</td>\n",
              "      <td>1</td>\n",
              "      <td>0</td>\n",
              "      <td>0</td>\n",
              "    </tr>\n",
              "    <tr>\n",
              "      <th>4</th>\n",
              "      <td>699</td>\n",
              "      <td>Female</td>\n",
              "      <td>39</td>\n",
              "      <td>1</td>\n",
              "      <td>0.00</td>\n",
              "      <td>2</td>\n",
              "      <td>0</td>\n",
              "      <td>0</td>\n",
              "      <td>93826.63</td>\n",
              "      <td>0</td>\n",
              "      <td>1</td>\n",
              "      <td>0</td>\n",
              "      <td>0</td>\n",
              "    </tr>\n",
              "    <tr>\n",
              "      <th>5</th>\n",
              "      <td>850</td>\n",
              "      <td>Female</td>\n",
              "      <td>43</td>\n",
              "      <td>2</td>\n",
              "      <td>125510.82</td>\n",
              "      <td>1</td>\n",
              "      <td>1</td>\n",
              "      <td>1</td>\n",
              "      <td>79084.10</td>\n",
              "      <td>0</td>\n",
              "      <td>0</td>\n",
              "      <td>0</td>\n",
              "      <td>1</td>\n",
              "    </tr>\n",
              "  </tbody>\n",
              "</table>\n",
              "</div>\n",
              "      <button class=\"colab-df-convert\" onclick=\"convertToInteractive('df-7d5ed8bb-afe0-4f36-925e-a9e3270f3508')\"\n",
              "              title=\"Convert this dataframe to an interactive table.\"\n",
              "              style=\"display:none;\">\n",
              "        \n",
              "  <svg xmlns=\"http://www.w3.org/2000/svg\" height=\"24px\"viewBox=\"0 0 24 24\"\n",
              "       width=\"24px\">\n",
              "    <path d=\"M0 0h24v24H0V0z\" fill=\"none\"/>\n",
              "    <path d=\"M18.56 5.44l.94 2.06.94-2.06 2.06-.94-2.06-.94-.94-2.06-.94 2.06-2.06.94zm-11 1L8.5 8.5l.94-2.06 2.06-.94-2.06-.94L8.5 2.5l-.94 2.06-2.06.94zm10 10l.94 2.06.94-2.06 2.06-.94-2.06-.94-.94-2.06-.94 2.06-2.06.94z\"/><path d=\"M17.41 7.96l-1.37-1.37c-.4-.4-.92-.59-1.43-.59-.52 0-1.04.2-1.43.59L10.3 9.45l-7.72 7.72c-.78.78-.78 2.05 0 2.83L4 21.41c.39.39.9.59 1.41.59.51 0 1.02-.2 1.41-.59l7.78-7.78 2.81-2.81c.8-.78.8-2.07 0-2.86zM5.41 20L4 18.59l7.72-7.72 1.47 1.35L5.41 20z\"/>\n",
              "  </svg>\n",
              "      </button>\n",
              "      \n",
              "  <style>\n",
              "    .colab-df-container {\n",
              "      display:flex;\n",
              "      flex-wrap:wrap;\n",
              "      gap: 12px;\n",
              "    }\n",
              "\n",
              "    .colab-df-convert {\n",
              "      background-color: #E8F0FE;\n",
              "      border: none;\n",
              "      border-radius: 50%;\n",
              "      cursor: pointer;\n",
              "      display: none;\n",
              "      fill: #1967D2;\n",
              "      height: 32px;\n",
              "      padding: 0 0 0 0;\n",
              "      width: 32px;\n",
              "    }\n",
              "\n",
              "    .colab-df-convert:hover {\n",
              "      background-color: #E2EBFA;\n",
              "      box-shadow: 0px 1px 2px rgba(60, 64, 67, 0.3), 0px 1px 3px 1px rgba(60, 64, 67, 0.15);\n",
              "      fill: #174EA6;\n",
              "    }\n",
              "\n",
              "    [theme=dark] .colab-df-convert {\n",
              "      background-color: #3B4455;\n",
              "      fill: #D2E3FC;\n",
              "    }\n",
              "\n",
              "    [theme=dark] .colab-df-convert:hover {\n",
              "      background-color: #434B5C;\n",
              "      box-shadow: 0px 1px 3px 1px rgba(0, 0, 0, 0.15);\n",
              "      filter: drop-shadow(0px 1px 2px rgba(0, 0, 0, 0.3));\n",
              "      fill: #FFFFFF;\n",
              "    }\n",
              "  </style>\n",
              "\n",
              "      <script>\n",
              "        const buttonEl =\n",
              "          document.querySelector('#df-7d5ed8bb-afe0-4f36-925e-a9e3270f3508 button.colab-df-convert');\n",
              "        buttonEl.style.display =\n",
              "          google.colab.kernel.accessAllowed ? 'block' : 'none';\n",
              "\n",
              "        async function convertToInteractive(key) {\n",
              "          const element = document.querySelector('#df-7d5ed8bb-afe0-4f36-925e-a9e3270f3508');\n",
              "          const dataTable =\n",
              "            await google.colab.kernel.invokeFunction('convertToInteractive',\n",
              "                                                     [key], {});\n",
              "          if (!dataTable) return;\n",
              "\n",
              "          const docLinkHtml = 'Like what you see? Visit the ' +\n",
              "            '<a target=\"_blank\" href=https://colab.research.google.com/notebooks/data_table.ipynb>data table notebook</a>'\n",
              "            + ' to learn more about interactive tables.';\n",
              "          element.innerHTML = '';\n",
              "          dataTable['output_type'] = 'display_data';\n",
              "          await google.colab.output.renderOutput(dataTable, element);\n",
              "          const docLink = document.createElement('div');\n",
              "          docLink.innerHTML = docLinkHtml;\n",
              "          element.appendChild(docLink);\n",
              "        }\n",
              "      </script>\n",
              "    </div>\n",
              "  </div>\n",
              "  "
            ]
          },
          "metadata": {},
          "execution_count": 10
        }
      ]
    },
    {
      "cell_type": "code",
      "source": [
        "churn = Gender_dum"
      ],
      "metadata": {
        "id": "NzqgnLgOXjra"
      },
      "execution_count": 11,
      "outputs": []
    },
    {
      "cell_type": "code",
      "source": [
        "import seaborn as sns # data visualiaztion\n",
        "import matplotlib.pyplot as plt # data visualization\n",
        "sns.countplot(y=churn.Exited ,data=churn)\n",
        "plt.xlabel(\"Count of each Target class\")\n",
        "plt.ylabel(\"Target classes\")\n",
        "plt.show()"
      ],
      "metadata": {
        "colab": {
          "base_uri": "https://localhost:8080/",
          "height": 279
        },
        "id": "rF3qhTtSXjtu",
        "outputId": "1d9a3f37-7010-4f8d-f12c-0efb128739c3"
      },
      "execution_count": 12,
      "outputs": [
        {
          "output_type": "display_data",
          "data": {
            "text/plain": [
              "<Figure size 432x288 with 1 Axes>"
            ],
            "image/png": "[encoded data removed]"
          },
          "metadata": {
            "needs_background": "light"
          }
        }
      ]
    },
    {
      "cell_type": "code",
      "source": [
        "X = churn.drop(['Exited'],axis=1)\n",
        "y = churn.Exited"
      ],
      "metadata": {
        "id": "TJKFQuMDXjvY"
      },
      "execution_count": 13,
      "outputs": []
    },
    {
      "cell_type": "code",
      "source": [
        "# SMOTE methods to balance our datasets , its gives equal entity to both values in opur target variable\n",
        "from imblearn.over_sampling import SMOTE # SMOTE library\n",
        "smote = SMOTE() # object the smote methods\n",
        "X_sample, Y_sample = smote.fit_resample(X,y) # sampling the datasets\n",
        "plot=Y_sample.value_counts().plot(kind='bar')# ploting the sampling dataset\n",
        "plt.show()"
      ],
      "metadata": {
        "colab": {
          "base_uri": "https://localhost:8080/",
          "height": 262
        },
        "id": "XFbbuFdqXjxN",
        "outputId": "72723bf7-0ec9-4268-c43f-4a997e71132d"
      },
      "execution_count": 14,
      "outputs": [
        {
          "output_type": "display_data",
          "data": {
            "text/plain": [
              "<Figure size 432x288 with 1 Axes>"
            ],
            "image/png": "[encoded data removed]"
          },
          "metadata": {
            "needs_background": "light"
          }
        }
      ]
    },
    {
      "cell_type": "code",
      "source": [
        "# splitting the 80 % data for train and 20 % for  test for reduce the overfitting\n",
        "from sklearn.model_selection import train_test_split, StratifiedKFold # stratifiedkfold for cross validation, it gives\n",
        "#equal priority for both values.\n",
        "\n",
        "x_train, x_test, y_train, y_test = train_test_split(X_sample,Y_sample,\n",
        "                                                    stratify=Y_sample,\n",
        "                                                    test_size=0.2,\n",
        "                                                    random_state=42)"
      ],
      "metadata": {
        "id": "snYLjfx3XjzO"
      },
      "execution_count": 15,
      "outputs": []
    },
    {
      "cell_type": "code",
      "source": [
        "# showing shape of the data after sampling \n",
        "test_size=y_test.value_counts() # value counts in y test \n",
        "print(\"Test size after sampling:\", test_size)\n",
        "print(\"******************************\")\n",
        "train_size=y_train.value_counts()# value counts in y train\n",
        "print(\"Train size after sampling :\",  train_size)"
      ],
      "metadata": {
        "colab": {
          "base_uri": "https://localhost:8080/"
        },
        "id": "9TbLfON5Xj1A",
        "outputId": "88ba84dd-ae1c-420b-d7f9-a2518345164c"
      },
      "execution_count": 16,
      "outputs": [
        {
          "output_type": "stream",
          "name": "stdout",
          "text": [
            "Test size after sampling: 0    1593\n",
            "1    1593\n",
            "Name: Exited, dtype: int64\n",
            "******************************\n",
            "Train size after sampling : 0    6370\n",
            "1    6370\n",
            "Name: Exited, dtype: int64\n"
          ]
        }
      ]
    },
    {
      "cell_type": "code",
      "source": [
        "# Feature Scaling \n",
        "from sklearn.preprocessing import StandardScaler\n",
        "sc = StandardScaler()\n",
        "X_train = sc.fit_transform(x_train)\n",
        "X_test = sc.transform(x_test)"
      ],
      "metadata": {
        "id": "YznmO55xbFiC"
      },
      "execution_count": 17,
      "outputs": []
    },
    {
      "cell_type": "code",
      "source": [
        "# Artificial Neural Network"
      ],
      "metadata": {
        "id": "ofzLgSzsbFpC"
      },
      "execution_count": 18,
      "outputs": []
    },
    {
      "cell_type": "code",
      "source": [
        "\n",
        "from keras.models import Sequential # sequential model to initialise our ann \n",
        "from keras.layers import Dense # dense module to build the layers"
      ],
      "metadata": {
        "id": "Y3Rsu6qCbFrc"
      },
      "execution_count": 19,
      "outputs": []
    },
    {
      "cell_type": "code",
      "source": [
        "classifier = Sequential()\n",
        "\n",
        "# Adding the input layer and the first hidden layer\n",
        "\n",
        "classifier.add(Dense(units = 6, kernel_initializer = 'uniform', activation = 'relu', input_dim = 12)) # The first hidden layer has 6 nodes \n",
        "\n",
        "# Adding the second hidden layer\n",
        "\n",
        "classifier.add(Dense(units = 6, kernel_initializer = 'uniform', activation = 'relu')) # 6 nodes \n",
        "\n",
        "# Adding the output layer\n",
        "\n",
        "classifier.add(Dense(units = 1, kernel_initializer = 'uniform', activation = 'sigmoid')) # one nodes\n",
        "\n"
      ],
      "metadata": {
        "id": "rTyw9SRHbFtW"
      },
      "execution_count": 20,
      "outputs": []
    },
    {
      "cell_type": "code",
      "source": [
        "# Compiling the ANN\n",
        "\n",
        "classifier.compile(optimizer = 'adam', loss = 'binary_crossentropy', metrics = ['accuracy'])"
      ],
      "metadata": {
        "id": "GwHwPZWGbFu4"
      },
      "execution_count": 21,
      "outputs": []
    },
    {
      "cell_type": "code",
      "source": [
        "# Fitting the ANN to the Training set\n",
        "classifier.fit(X_train, y_train, batch_size = 10, epochs = 100,verbose = 1)"
      ],
      "metadata": {
        "colab": {
          "base_uri": "https://localhost:8080/"
        },
        "id": "pxm4hXrGbFwu",
        "outputId": "bbb06965-9650-40dc-d960-9f6746bb6f7e"
      },
      "execution_count": 22,
      "outputs": [
        {
          "output_type": "stream",
          "name": "stdout",
          "text": [
            "Epoch 1/100\n",
            "1274/1274 [==============================] - 5s 3ms/step - loss: 0.5213 - accuracy: 0.7754\n",
            "Epoch 2/100\n",
            "1274/1274 [==============================] - 4s 3ms/step - loss: 0.4065 - accuracy: 0.8335\n",
            "Epoch 3/100\n",
            "1274/1274 [==============================] - 2s 2ms/step - loss: 0.3645 - accuracy: 0.8491\n",
            "Epoch 4/100\n",
            "1274/1274 [==============================] - 2s 2ms/step - loss: 0.3469 - accuracy: 0.8530\n",
            "Epoch 5/100\n",
            "1274/1274 [==============================] - 2s 2ms/step - loss: 0.3377 - accuracy: 0.8543\n",
            "Epoch 6/100\n",
            "1274/1274 [==============================] - 2s 2ms/step - loss: 0.3334 - accuracy: 0.8586\n",
            "Epoch 7/100\n",
            "1274/1274 [==============================] - 2s 2ms/step - loss: 0.3300 - accuracy: 0.8585\n",
            "Epoch 8/100\n",
            "1274/1274 [==============================] - 2s 2ms/step - loss: 0.3290 - accuracy: 0.8564\n",
            "Epoch 9/100\n",
            "1274/1274 [==============================] - 2s 2ms/step - loss: 0.3280 - accuracy: 0.8584\n",
            "Epoch 10/100\n",
            "1274/1274 [==============================] - 2s 2ms/step - loss: 0.3264 - accuracy: 0.8573\n",
            "Epoch 11/100\n",
            "1274/1274 [==============================] - 2s 2ms/step - loss: 0.3265 - accuracy: 0.8574\n",
            "Epoch 12/100\n",
            "1274/1274 [==============================] - 2s 2ms/step - loss: 0.3258 - accuracy: 0.8567\n",
            "Epoch 13/100\n",
            "1274/1274 [==============================] - 2s 2ms/step - loss: 0.3249 - accuracy: 0.8571\n",
            "Epoch 14/100\n",
            "1274/1274 [==============================] - 2s 2ms/step - loss: 0.3246 - accuracy: 0.8563\n",
            "Epoch 15/100\n",
            "1274/1274 [==============================] - 2s 2ms/step - loss: 0.3232 - accuracy: 0.8559\n",
            "Epoch 16/100\n",
            "1274/1274 [==============================] - 2s 2ms/step - loss: 0.3239 - accuracy: 0.8568\n",
            "Epoch 17/100\n",
            "1274/1274 [==============================] - 2s 2ms/step - loss: 0.3239 - accuracy: 0.8570\n",
            "Epoch 18/100\n",
            "1274/1274 [==============================] - 2s 2ms/step - loss: 0.3234 - accuracy: 0.8568\n",
            "Epoch 19/100\n",
            "1274/1274 [==============================] - 2s 2ms/step - loss: 0.3237 - accuracy: 0.8566\n",
            "Epoch 20/100\n",
            "1274/1274 [==============================] - 2s 2ms/step - loss: 0.3229 - accuracy: 0.8580\n",
            "Epoch 21/100\n",
            "1274/1274 [==============================] - 4s 3ms/step - loss: 0.3230 - accuracy: 0.8589\n",
            "Epoch 22/100\n",
            "1274/1274 [==============================] - 2s 2ms/step - loss: 0.3231 - accuracy: 0.8583\n",
            "Epoch 23/100\n",
            "1274/1274 [==============================] - 2s 2ms/step - loss: 0.3232 - accuracy: 0.8576\n",
            "Epoch 24/100\n",
            "1274/1274 [==============================] - 2s 2ms/step - loss: 0.3231 - accuracy: 0.8570\n",
            "Epoch 25/100\n",
            "1274/1274 [==============================] - 2s 2ms/step - loss: 0.3223 - accuracy: 0.8581\n",
            "Epoch 26/100\n",
            "1274/1274 [==============================] - 2s 2ms/step - loss: 0.3223 - accuracy: 0.8571\n",
            "Epoch 27/100\n",
            "1274/1274 [==============================] - 2s 2ms/step - loss: 0.3220 - accuracy: 0.8572\n",
            "Epoch 28/100\n",
            "1274/1274 [==============================] - 2s 2ms/step - loss: 0.3229 - accuracy: 0.8566\n",
            "Epoch 29/100\n",
            "1274/1274 [==============================] - 2s 2ms/step - loss: 0.3225 - accuracy: 0.8558\n",
            "Epoch 30/100\n",
            "1274/1274 [==============================] - 2s 2ms/step - loss: 0.3226 - accuracy: 0.8576\n",
            "Epoch 31/100\n",
            "1274/1274 [==============================] - 2s 2ms/step - loss: 0.3229 - accuracy: 0.8578\n",
            "Epoch 32/100\n",
            "1274/1274 [==============================] - 2s 2ms/step - loss: 0.3224 - accuracy: 0.8555\n",
            "Epoch 33/100\n",
            "1274/1274 [==============================] - 2s 2ms/step - loss: 0.3222 - accuracy: 0.8587\n",
            "Epoch 34/100\n",
            "1274/1274 [==============================] - 2s 2ms/step - loss: 0.3225 - accuracy: 0.8565\n",
            "Epoch 35/100\n",
            "1274/1274 [==============================] - 2s 2ms/step - loss: 0.3219 - accuracy: 0.8558\n",
            "Epoch 36/100\n",
            "1274/1274 [==============================] - 2s 2ms/step - loss: 0.3219 - accuracy: 0.8569\n",
            "Epoch 37/100\n",
            "1274/1274 [==============================] - 2s 2ms/step - loss: 0.3223 - accuracy: 0.8575\n",
            "Epoch 38/100\n",
            "1274/1274 [==============================] - 2s 2ms/step - loss: 0.3223 - accuracy: 0.8575\n",
            "Epoch 39/100\n",
            "1274/1274 [==============================] - 2s 2ms/step - loss: 0.3218 - accuracy: 0.8571\n",
            "Epoch 40/100\n",
            "1274/1274 [==============================] - 2s 2ms/step - loss: 0.3217 - accuracy: 0.8553\n",
            "Epoch 41/100\n",
            "1274/1274 [==============================] - 2s 2ms/step - loss: 0.3219 - accuracy: 0.8560\n",
            "Epoch 42/100\n",
            "1274/1274 [==============================] - 2s 2ms/step - loss: 0.3221 - accuracy: 0.8558\n",
            "Epoch 43/100\n",
            "1274/1274 [==============================] - 2s 2ms/step - loss: 0.3206 - accuracy: 0.8582\n",
            "Epoch 44/100\n",
            "1274/1274 [==============================] - 2s 2ms/step - loss: 0.3218 - accuracy: 0.8575\n",
            "Epoch 45/100\n",
            "1274/1274 [==============================] - 2s 2ms/step - loss: 0.3204 - accuracy: 0.8571\n",
            "Epoch 46/100\n",
            "1274/1274 [==============================] - 2s 2ms/step - loss: 0.3213 - accuracy: 0.8568\n",
            "Epoch 47/100\n",
            "1274/1274 [==============================] - 2s 2ms/step - loss: 0.3208 - accuracy: 0.8574\n",
            "Epoch 48/100\n",
            "1274/1274 [==============================] - 2s 2ms/step - loss: 0.3211 - accuracy: 0.8576\n",
            "Epoch 49/100\n",
            "1274/1274 [==============================] - 2s 2ms/step - loss: 0.3211 - accuracy: 0.8564\n",
            "Epoch 50/100\n",
            "1274/1274 [==============================] - 2s 2ms/step - loss: 0.3210 - accuracy: 0.8563\n",
            "Epoch 51/100\n",
            "1274/1274 [==============================] - 3s 2ms/step - loss: 0.3206 - accuracy: 0.8568\n",
            "Epoch 52/100\n",
            "1274/1274 [==============================] - 2s 2ms/step - loss: 0.3204 - accuracy: 0.8591\n",
            "Epoch 53/100\n",
            "1274/1274 [==============================] - 2s 2ms/step - loss: 0.3210 - accuracy: 0.8583\n",
            "Epoch 54/100\n",
            "1274/1274 [==============================] - 2s 2ms/step - loss: 0.3206 - accuracy: 0.8562\n",
            "Epoch 55/100\n",
            "1274/1274 [==============================] - 2s 2ms/step - loss: 0.3204 - accuracy: 0.8575\n",
            "Epoch 56/100\n",
            "1274/1274 [==============================] - 2s 2ms/step - loss: 0.3207 - accuracy: 0.8553\n",
            "Epoch 57/100\n",
            "1274/1274 [==============================] - 2s 2ms/step - loss: 0.3200 - accuracy: 0.8565\n",
            "Epoch 58/100\n",
            "1274/1274 [==============================] - 2s 2ms/step - loss: 0.3202 - accuracy: 0.8570\n",
            "Epoch 59/100\n",
            "1274/1274 [==============================] - 2s 2ms/step - loss: 0.3199 - accuracy: 0.8563\n",
            "Epoch 60/100\n",
            "1274/1274 [==============================] - 2s 2ms/step - loss: 0.3208 - accuracy: 0.8562\n",
            "Epoch 61/100\n",
            "1274/1274 [==============================] - 3s 2ms/step - loss: 0.3200 - accuracy: 0.8582\n",
            "Epoch 62/100\n",
            "1274/1274 [==============================] - 4s 3ms/step - loss: 0.3201 - accuracy: 0.8579\n",
            "Epoch 63/100\n",
            "1274/1274 [==============================] - 5s 4ms/step - loss: 0.3199 - accuracy: 0.8574\n",
            "Epoch 64/100\n",
            "1274/1274 [==============================] - 4s 3ms/step - loss: 0.3203 - accuracy: 0.8579\n",
            "Epoch 65/100\n",
            "1274/1274 [==============================] - 2s 2ms/step - loss: 0.3205 - accuracy: 0.8565\n",
            "Epoch 66/100\n",
            "1274/1274 [==============================] - 2s 2ms/step - loss: 0.3201 - accuracy: 0.8571\n",
            "Epoch 67/100\n",
            "1274/1274 [==============================] - 2s 2ms/step - loss: 0.3206 - accuracy: 0.8564\n",
            "Epoch 68/100\n",
            "1274/1274 [==============================] - 2s 2ms/step - loss: 0.3199 - accuracy: 0.8573\n",
            "Epoch 69/100\n",
            "1274/1274 [==============================] - 2s 2ms/step - loss: 0.3199 - accuracy: 0.8556\n",
            "Epoch 70/100\n",
            "1274/1274 [==============================] - 2s 2ms/step - loss: 0.3194 - accuracy: 0.8578\n",
            "Epoch 71/100\n",
            "1274/1274 [==============================] - 2s 2ms/step - loss: 0.3201 - accuracy: 0.8557\n",
            "Epoch 72/100\n",
            "1274/1274 [==============================] - 2s 2ms/step - loss: 0.3200 - accuracy: 0.8589\n",
            "Epoch 73/100\n",
            "1274/1274 [==============================] - 2s 2ms/step - loss: 0.3199 - accuracy: 0.8570\n",
            "Epoch 74/100\n",
            "1274/1274 [==============================] - 2s 2ms/step - loss: 0.3202 - accuracy: 0.8559\n",
            "Epoch 75/100\n",
            "1274/1274 [==============================] - 2s 2ms/step - loss: 0.3196 - accuracy: 0.8564\n",
            "Epoch 76/100\n",
            "1274/1274 [==============================] - 2s 2ms/step - loss: 0.3191 - accuracy: 0.8577\n",
            "Epoch 77/100\n",
            "1274/1274 [==============================] - 2s 2ms/step - loss: 0.3201 - accuracy: 0.8568\n",
            "Epoch 78/100\n",
            "1274/1274 [==============================] - 2s 2ms/step - loss: 0.3193 - accuracy: 0.8546\n",
            "Epoch 79/100\n",
            "1274/1274 [==============================] - 2s 2ms/step - loss: 0.3197 - accuracy: 0.8574\n",
            "Epoch 80/100\n",
            "1274/1274 [==============================] - 2s 2ms/step - loss: 0.3195 - accuracy: 0.8568\n",
            "Epoch 81/100\n",
            "1274/1274 [==============================] - 2s 2ms/step - loss: 0.3197 - accuracy: 0.8564\n",
            "Epoch 82/100\n",
            "1274/1274 [==============================] - 2s 2ms/step - loss: 0.3194 - accuracy: 0.8575\n",
            "Epoch 83/100\n",
            "1274/1274 [==============================] - 2s 2ms/step - loss: 0.3196 - accuracy: 0.8569\n",
            "Epoch 84/100\n",
            "1274/1274 [==============================] - 2s 2ms/step - loss: 0.3195 - accuracy: 0.8547\n",
            "Epoch 85/100\n",
            "1274/1274 [==============================] - 2s 2ms/step - loss: 0.3193 - accuracy: 0.8575\n",
            "Epoch 86/100\n",
            "1274/1274 [==============================] - 2s 2ms/step - loss: 0.3188 - accuracy: 0.8582\n",
            "Epoch 87/100\n",
            "1274/1274 [==============================] - 2s 2ms/step - loss: 0.3187 - accuracy: 0.8576\n",
            "Epoch 88/100\n",
            "1274/1274 [==============================] - 2s 2ms/step - loss: 0.3187 - accuracy: 0.8578\n",
            "Epoch 89/100\n",
            "1274/1274 [==============================] - 2s 2ms/step - loss: 0.3189 - accuracy: 0.8575\n",
            "Epoch 90/100\n",
            "1274/1274 [==============================] - 2s 2ms/step - loss: 0.3183 - accuracy: 0.8572\n",
            "Epoch 91/100\n",
            "1274/1274 [==============================] - 2s 2ms/step - loss: 0.3184 - accuracy: 0.8582\n",
            "Epoch 92/100\n",
            "1274/1274 [==============================] - 2s 2ms/step - loss: 0.3190 - accuracy: 0.8580\n",
            "Epoch 93/100\n",
            "1274/1274 [==============================] - 2s 2ms/step - loss: 0.3180 - accuracy: 0.8568\n",
            "Epoch 94/100\n",
            "1274/1274 [==============================] - 2s 2ms/step - loss: 0.3174 - accuracy: 0.8571\n",
            "Epoch 95/100\n",
            "1274/1274 [==============================] - 2s 2ms/step - loss: 0.3173 - accuracy: 0.8586\n",
            "Epoch 96/100\n",
            "1274/1274 [==============================] - 2s 2ms/step - loss: 0.3176 - accuracy: 0.8604\n",
            "Epoch 97/100\n",
            "1274/1274 [==============================] - 2s 2ms/step - loss: 0.3178 - accuracy: 0.8587\n",
            "Epoch 98/100\n",
            "1274/1274 [==============================] - 3s 2ms/step - loss: 0.3171 - accuracy: 0.8586\n",
            "Epoch 99/100\n",
            "1274/1274 [==============================] - 2s 2ms/step - loss: 0.3178 - accuracy: 0.8593\n",
            "Epoch 100/100\n",
            "1274/1274 [==============================] - 2s 2ms/step - loss: 0.3169 - accuracy: 0.8599\n"
          ]
        },
        {
          "output_type": "execute_result",
          "data": {
            "text/plain": [
              "<keras.callbacks.History at 0x7efe8c192990>"
            ]
          },
          "metadata": {},
          "execution_count": 22
        }
      ]
    },
    {
      "cell_type": "code",
      "source": [
        "score, acc = classifier.evaluate(X_train, y_train,\n",
        "                            batch_size=10)\n",
        "\n",
        "print('Train score:', score)\n",
        "print('Train accuracy:', acc)"
      ],
      "metadata": {
        "colab": {
          "base_uri": "https://localhost:8080/"
        },
        "id": "ZbXvFWOCbFyj",
        "outputId": "694bbea5-8768-4593-8f45-dd56b19fd668"
      },
      "execution_count": 23,
      "outputs": [
        {
          "output_type": "stream",
          "name": "stdout",
          "text": [
            "1274/1274 [==============================] - 2s 2ms/step - loss: 0.3172 - accuracy: 0.8578\n",
            "Train score: 0.3171570599079132\n",
            "Train accuracy: 0.8578492999076843\n"
          ]
        }
      ]
    },
    {
      "cell_type": "code",
      "source": [
        "# Making predictions and evaluating the model\n",
        "\n",
        "# Predicting the Test set results\n",
        "y_pred = classifier.predict(X_test)\n",
        "y_pred = (y_pred > 0.5)"
      ],
      "metadata": {
        "id": "Ck6h_ciXbF0V"
      },
      "execution_count": 24,
      "outputs": []
    },
    {
      "cell_type": "code",
      "source": [
        "# Making the Confusion Matrix\n",
        "from sklearn.metrics import confusion_matrix\n",
        "cm = confusion_matrix(y_test, y_pred)\n",
        "p = sns.heatmap(pd.DataFrame(cm), annot=True, cmap=\"rocket\" ,fmt='g')\n",
        "plt.title('Confusion matrix', y=1.1)\n",
        "plt.ylabel('Actual label')\n",
        "plt.xlabel('Predicted label')"
      ],
      "metadata": {
        "colab": {
          "base_uri": "https://localhost:8080/",
          "height": 312
        },
        "id": "cEKK2djcg__s",
        "outputId": "6f8d5a40-5723-4e40-8e91-a6b7a65fc963"
      },
      "execution_count": 25,
      "outputs": [
        {
          "output_type": "execute_result",
          "data": {
            "text/plain": [
              "Text(0.5, 15.0, 'Predicted label')"
            ]
          },
          "metadata": {},
          "execution_count": 25
        },
        {
          "output_type": "display_data",
          "data": {
            "text/plain": [
              "<Figure size 432x288 with 2 Axes>"
            ],
            "image/png": "[encoded data removed]"
          },
          "metadata": {
            "needs_background": "light"
          }
        }
      ]
    },
    {
      "cell_type": "code",
      "source": [
        "#import classification_report\n",
        "from sklearn.metrics import classification_report\n",
        "print(classification_report(y_test,y_pred))"
      ],
      "metadata": {
        "colab": {
          "base_uri": "https://localhost:8080/"
        },
        "id": "cbu9btDjhAB2",
        "outputId": "58fd6101-1704-43e3-eeeb-f1536c4dcbd1"
      },
      "execution_count": 26,
      "outputs": [
        {
          "output_type": "stream",
          "name": "stdout",
          "text": [
            "              precision    recall  f1-score   support\n",
            "\n",
            "           0       0.82      0.92      0.86      1593\n",
            "           1       0.90      0.79      0.84      1593\n",
            "\n",
            "    accuracy                           0.85      3186\n",
            "   macro avg       0.86      0.85      0.85      3186\n",
            "weighted avg       0.86      0.85      0.85      3186\n",
            "\n"
          ]
        }
      ]
    },
    {
      "cell_type": "markdown",
      "source": [
        " Improving ANN with **Dropout** layer\n",
        " "
      ],
      "metadata": {
        "id": "JJ0VaxHEjB-c"
      }
    },
    {
      "cell_type": "code",
      "source": [
        "# Dropout Regularization is used to reduce overfitting"
      ],
      "metadata": {
        "id": "b_Jbb5X6jICN"
      },
      "execution_count": 27,
      "outputs": []
    },
    {
      "cell_type": "code",
      "source": [
        "# Improving the ANN\n",
        "from keras.layers import Dropout\n",
        "classifier = Sequential()\n",
        "# Adding the input layer and the first hidden layer\n",
        "classifier.add(Dense(units = 6, kernel_initializer = 'uniform', activation = 'relu', input_dim = 12))\n",
        "\n",
        "classifier.add(Dropout(rate = 0.1))\n",
        "\n",
        "# Adding the second hidden layer\n",
        "classifier.add(Dense(units = 6, kernel_initializer = 'uniform', activation = 'relu'))\n",
        "\n",
        "classifier.add(Dropout(rate = 0.1))\n",
        "\n",
        "# Adding the output layer\n",
        "classifier.add(Dense(units = 1, kernel_initializer = 'uniform', activation = 'sigmoid'))\n",
        "\n"
      ],
      "metadata": {
        "id": "G3Pns2mojPct"
      },
      "execution_count": 28,
      "outputs": []
    },
    {
      "cell_type": "code",
      "source": [
        "# Compiling the ANN\n",
        "classifier.compile(optimizer = 'adam', loss = 'binary_crossentropy', metrics = ['accuracy'])\n",
        "\n"
      ],
      "metadata": {
        "id": "184ycsC_kCBl"
      },
      "execution_count": 29,
      "outputs": []
    },
    {
      "cell_type": "code",
      "source": [
        "# Fitting the ANN to the Training set\n",
        "classifier.fit(X_train, y_train, batch_size = 10, epochs = 100,verbose = 0)\n"
      ],
      "metadata": {
        "colab": {
          "base_uri": "https://localhost:8080/"
        },
        "id": "BXX7JX1ijPfV",
        "outputId": "601763b6-262d-4081-85b1-1ace9215623d"
      },
      "execution_count": 30,
      "outputs": [
        {
          "output_type": "execute_result",
          "data": {
            "text/plain": [
              "<keras.callbacks.History at 0x7efe881bea90>"
            ]
          },
          "metadata": {},
          "execution_count": 30
        }
      ]
    },
    {
      "cell_type": "code",
      "source": [
        "#  Making predictions and evaluating the model\n",
        "\n",
        "score, acc = classifier.evaluate(X_train, y_train,\n",
        "                            batch_size=10)\n",
        "print('Train score:', score)\n",
        "print('Train accuracy:', acc)\n",
        "# Part 3 - Making predictions and evaluating the model\n",
        "\n",
        "# Predicting the Test set results\n",
        "y_pred = classifier.predict(X_test)\n",
        "y_pred = (y_pred > 0.5)\n",
        "\n",
        "print('*'*20)\n",
        "score, acc = classifier.evaluate(X_test, y_test,\n",
        "                            batch_size=10)\n",
        "print('Test score:', score)\n",
        "print('Test accuracy:', acc)\n",
        "\n",
        "# Making the Confusion Matrix\n",
        "from sklearn.metrics import confusion_matrix\n",
        "cm = confusion_matrix(y_test, y_pred)"
      ],
      "metadata": {
        "colab": {
          "base_uri": "https://localhost:8080/"
        },
        "id": "9J-FEoFVjPjH",
        "outputId": "cb25e717-2c85-4ae2-b869-9a43b08d278b"
      },
      "execution_count": 31,
      "outputs": [
        {
          "output_type": "stream",
          "name": "stdout",
          "text": [
            "1274/1274 [==============================] - 2s 1ms/step - loss: 0.3352 - accuracy: 0.8516\n",
            "Train score: 0.33518245816230774\n",
            "Train accuracy: 0.8515698313713074\n",
            "********************\n",
            "319/319 [==============================] - 1s 2ms/step - loss: 0.3490 - accuracy: 0.8402\n",
            "Test score: 0.34900856018066406\n",
            "Test accuracy: 0.8402385711669922\n"
          ]
        }
      ]
    },
    {
      "cell_type": "code",
      "source": [
        "p = sns.heatmap(pd.DataFrame(cm), annot=True, cmap=\"rocket\" ,fmt='g')\n",
        "plt.title('Confusion matrix', y=1.1)\n",
        "plt.ylabel('Actual label')\n",
        "plt.xlabel('Predicted label')"
      ],
      "metadata": {
        "colab": {
          "base_uri": "https://localhost:8080/",
          "height": 312
        },
        "id": "Ykk0--3ZjPlF",
        "outputId": "1a27273b-3164-492e-907c-ad58b1b10116"
      },
      "execution_count": 32,
      "outputs": [
        {
          "output_type": "execute_result",
          "data": {
            "text/plain": [
              "Text(0.5, 15.0, 'Predicted label')"
            ]
          },
          "metadata": {},
          "execution_count": 32
        },
        {
          "output_type": "display_data",
          "data": {
            "text/plain": [
              "<Figure size 432x288 with 2 Axes>"
            ],
            "image/png": "[encoded data removed]"
          },
          "metadata": {
            "needs_background": "light"
          }
        }
      ]
    },
    {
      "cell_type": "code",
      "source": [
        "#import classification_report\n",
        "from sklearn.metrics import classification_report\n",
        "print(classification_report(y_test,y_pred))"
      ],
      "metadata": {
        "colab": {
          "base_uri": "https://localhost:8080/"
        },
        "id": "W6_BuaR0jPqQ",
        "outputId": "57ef7eac-e15e-447b-c681-7c550aed9d70"
      },
      "execution_count": 33,
      "outputs": [
        {
          "output_type": "stream",
          "name": "stdout",
          "text": [
            "              precision    recall  f1-score   support\n",
            "\n",
            "           0       0.82      0.88      0.85      1593\n",
            "           1       0.87      0.80      0.83      1593\n",
            "\n",
            "    accuracy                           0.84      3186\n",
            "   macro avg       0.84      0.84      0.84      3186\n",
            "weighted avg       0.84      0.84      0.84      3186\n",
            "\n"
          ]
        }
      ]
    },
    {
      "cell_type": "markdown",
      "source": [
        "Tuning the ANN"
      ],
      "metadata": {
        "id": "SzeuV9eHmBrZ"
      }
    },
    {
      "cell_type": "code",
      "source": [
        "from keras.wrappers.scikit_learn import KerasClassifier\n",
        "from sklearn.model_selection import GridSearchCV\n",
        "from keras.models import Sequential\n",
        "from keras.layers import Dense"
      ],
      "metadata": {
        "id": "xsLOluGxmCyr"
      },
      "execution_count": 35,
      "outputs": []
    },
    {
      "cell_type": "code",
      "source": [
        "def build_classifier(optimizer):\n",
        "    classifier = Sequential()\n",
        "    classifier.add(Dense(units = 6, kernel_initializer = 'uniform', activation = 'relu', input_dim = 12))\n",
        "    classifier.add(Dense(units = 6, kernel_initializer = 'uniform', activation = 'relu'))\n",
        "    classifier.add(Dense(units = 1, kernel_initializer = 'uniform', activation = 'sigmoid'))\n",
        "    classifier.compile(optimizer = optimizer, loss = 'binary_crossentropy', metrics = ['accuracy'])\n",
        "    return classifier"
      ],
      "metadata": {
        "id": "R3AsYUz1mJTY"
      },
      "execution_count": 36,
      "outputs": []
    },
    {
      "cell_type": "code",
      "source": [
        "classifier = KerasClassifier(build_fn = build_classifier)\n",
        "parameters = {'batch_size': [25,34],\n",
        "              'epochs': [2,3], # if want we can some more epoch\n",
        "              'optimizer': ['adam', 'rmsprop']}\n",
        "grid_search = GridSearchCV(estimator = classifier,\n",
        "                           param_grid = parameters,\n",
        "                           scoring = 'accuracy',\n",
        "                           cv = 2) # if you want add cross validation\n",
        "grid_search = grid_search.fit(X_train, y_train,verbose = 1)"
      ],
      "metadata": {
        "colab": {
          "base_uri": "https://localhost:8080/"
        },
        "id": "1JUu-NRTmXUR",
        "outputId": "55dc4bd2-a932-456f-9883-6c9fe98f9eb2"
      },
      "execution_count": 37,
      "outputs": [
        {
          "output_type": "stream",
          "name": "stdout",
          "text": [
            "Epoch 1/2\n"
          ]
        },
        {
          "output_type": "stream",
          "name": "stderr",
          "text": [
            "/usr/local/lib/python3.7/dist-packages/ipykernel_launcher.py:1: DeprecationWarning: KerasClassifier is deprecated, use Sci-Keras (https://github.com/adriangb/scikeras) instead. See https://www.adriangb.com/scikeras/stable/migration.html for help migrating.\n",
            "  \"\"\"Entry point for launching an IPython kernel.\n"
          ]
        },
        {
          "output_type": "stream",
          "name": "stdout",
          "text": [
            "255/255 [==============================] - 1s 2ms/step - loss: 0.6479 - accuracy: 0.6477\n",
            "Epoch 2/2\n",
            "255/255 [==============================] - 1s 2ms/step - loss: 0.5169 - accuracy: 0.8005\n",
            "Epoch 1/2\n",
            "255/255 [==============================] - 1s 2ms/step - loss: 0.6331 - accuracy: 0.7608\n",
            "Epoch 2/2\n",
            "255/255 [==============================] - 0s 2ms/step - loss: 0.4514 - accuracy: 0.7980\n",
            "Epoch 1/2\n",
            "255/255 [==============================] - 1s 2ms/step - loss: 0.6554 - accuracy: 0.7421\n",
            "Epoch 2/2\n",
            "255/255 [==============================] - 0s 2ms/step - loss: 0.4978 - accuracy: 0.7928\n",
            "Epoch 1/2\n",
            "255/255 [==============================] - 1s 2ms/step - loss: 0.6404 - accuracy: 0.6785\n",
            "Epoch 2/2\n",
            "255/255 [==============================] - 1s 2ms/step - loss: 0.5141 - accuracy: 0.7914\n",
            "Epoch 1/3\n",
            "255/255 [==============================] - 1s 2ms/step - loss: 0.6325 - accuracy: 0.6997\n",
            "Epoch 2/3\n",
            "255/255 [==============================] - 0s 2ms/step - loss: 0.4571 - accuracy: 0.8030\n",
            "Epoch 3/3\n",
            "255/255 [==============================] - 0s 2ms/step - loss: 0.4043 - accuracy: 0.8133\n",
            "Epoch 1/3\n",
            "255/255 [==============================] - 1s 2ms/step - loss: 0.6397 - accuracy: 0.7181\n",
            "Epoch 2/3\n",
            "255/255 [==============================] - 0s 2ms/step - loss: 0.4575 - accuracy: 0.7939\n",
            "Epoch 3/3\n",
            "255/255 [==============================] - 0s 2ms/step - loss: 0.4105 - accuracy: 0.8072\n",
            "Epoch 1/3\n",
            "255/255 [==============================] - 1s 2ms/step - loss: 0.6521 - accuracy: 0.6958\n",
            "Epoch 2/3\n",
            "255/255 [==============================] - 0s 2ms/step - loss: 0.5166 - accuracy: 0.7876\n",
            "Epoch 3/3\n",
            "255/255 [==============================] - 1s 2ms/step - loss: 0.4475 - accuracy: 0.7964\n",
            "Epoch 1/3\n",
            "255/255 [==============================] - 1s 2ms/step - loss: 0.6574 - accuracy: 0.5954\n",
            "Epoch 2/3\n",
            "255/255 [==============================] - 1s 2ms/step - loss: 0.5389 - accuracy: 0.7854\n",
            "Epoch 3/3\n",
            "255/255 [==============================] - 0s 2ms/step - loss: 0.4850 - accuracy: 0.8063\n",
            "Epoch 1/2\n",
            "188/188 [==============================] - 1s 2ms/step - loss: 0.6610 - accuracy: 0.7267\n",
            "Epoch 2/2\n",
            "188/188 [==============================] - 0s 2ms/step - loss: 0.4796 - accuracy: 0.7981\n",
            "Epoch 1/2\n",
            "188/188 [==============================] - 1s 2ms/step - loss: 0.6544 - accuracy: 0.6746\n",
            "Epoch 2/2\n",
            "188/188 [==============================] - 0s 2ms/step - loss: 0.4759 - accuracy: 0.7925\n",
            "Epoch 1/2\n",
            "188/188 [==============================] - 1s 2ms/step - loss: 0.6792 - accuracy: 0.7430\n",
            "Epoch 2/2\n",
            "188/188 [==============================] - 0s 2ms/step - loss: 0.5849 - accuracy: 0.7903\n",
            "Epoch 1/2\n",
            "188/188 [==============================] - 1s 2ms/step - loss: 0.6646 - accuracy: 0.6987\n",
            "Epoch 2/2\n",
            "188/188 [==============================] - 0s 2ms/step - loss: 0.5289 - accuracy: 0.7903\n",
            "Epoch 1/3\n",
            "188/188 [==============================] - 1s 2ms/step - loss: 0.6484 - accuracy: 0.6582\n",
            "Epoch 2/3\n",
            "188/188 [==============================] - 0s 2ms/step - loss: 0.4981 - accuracy: 0.7953\n",
            "Epoch 3/3\n",
            "188/188 [==============================] - 0s 2ms/step - loss: 0.4284 - accuracy: 0.8088\n",
            "Epoch 1/3\n",
            "188/188 [==============================] - 1s 2ms/step - loss: 0.6581 - accuracy: 0.6981\n",
            "Epoch 2/3\n",
            "188/188 [==============================] - 0s 2ms/step - loss: 0.5006 - accuracy: 0.7914\n",
            "Epoch 3/3\n",
            "188/188 [==============================] - 0s 2ms/step - loss: 0.4338 - accuracy: 0.8022\n",
            "Epoch 1/3\n",
            "188/188 [==============================] - 1s 2ms/step - loss: 0.6621 - accuracy: 0.7024\n",
            "Epoch 2/3\n",
            "188/188 [==============================] - 0s 2ms/step - loss: 0.5219 - accuracy: 0.7934\n",
            "Epoch 3/3\n",
            "188/188 [==============================] - 0s 2ms/step - loss: 0.4375 - accuracy: 0.8019\n",
            "Epoch 1/3\n",
            "188/188 [==============================] - 1s 2ms/step - loss: 0.6704 - accuracy: 0.7454\n",
            "Epoch 2/3\n",
            "188/188 [==============================] - 0s 2ms/step - loss: 0.5656 - accuracy: 0.7827\n",
            "Epoch 3/3\n",
            "188/188 [==============================] - 0s 2ms/step - loss: 0.4807 - accuracy: 0.7923\n",
            "Epoch 1/3\n",
            "510/510 [==============================] - 2s 2ms/step - loss: 0.5646 - accuracy: 0.7409\n",
            "Epoch 2/3\n",
            "510/510 [==============================] - 1s 2ms/step - loss: 0.4428 - accuracy: 0.8259\n",
            "Epoch 3/3\n",
            "510/510 [==============================] - 1s 2ms/step - loss: 0.3967 - accuracy: 0.8417\n"
          ]
        }
      ]
    },
    {
      "cell_type": "code",
      "source": [
        "best_parameters = grid_search.best_params_\n",
        "best_accuracy = grid_search.best_score_\n",
        "print('Best Parameters after tuning: {}'.format(best_parameters))\n",
        "print('Best Accuracy after tuning: {}'.format(best_accuracy))"
      ],
      "metadata": {
        "colab": {
          "base_uri": "https://localhost:8080/"
        },
        "id": "jGkJrly0mvjb",
        "outputId": "68007adb-c9af-4323-e8f5-c8d341ad8415"
      },
      "execution_count": 38,
      "outputs": [
        {
          "output_type": "stream",
          "name": "stdout",
          "text": [
            "Best Parameters after tuning: {'batch_size': 25, 'epochs': 3, 'optimizer': 'adam'}\n",
            "Best Accuracy after tuning: 0.8095761381475668\n"
          ]
        }
      ]
    },
    {
      "cell_type": "markdown",
      "source": [
        " Multiple times of Training using cross validation"
      ],
      "metadata": {
        "id": "x9eUajz5pIba"
      }
    },
    {
      "cell_type": "code",
      "source": [
        "# Evaluating the ANN\n",
        "from keras.wrappers.scikit_learn import KerasClassifier\n",
        "from sklearn.model_selection import cross_val_score\n",
        "from keras.models import Sequential\n",
        "from keras.layers import Dense\n",
        "def build_classifier():\n",
        "    classifier = Sequential()\n",
        "    classifier.add(Dense(units = 6, kernel_initializer = 'uniform', activation = 'relu', input_dim = 12))\n",
        "    classifier.add(Dense(units = 6, kernel_initializer = 'uniform', activation = 'relu'))\n",
        "    classifier.add(Dense(units = 1, kernel_initializer = 'uniform', activation = 'sigmoid'))\n",
        "    classifier.compile(optimizer = 'adam', loss = 'binary_crossentropy', metrics = ['accuracy'])\n",
        "    return classifier\n",
        "classifier = KerasClassifier(build_fn = build_classifier, batch_size = 10, epochs = 2,verbose=1)\n",
        "accuracies = cross_val_score(estimator = classifier, X = X_train, y = y_train, cv = 2)\n",
        "mean = accuracies.mean()\n",
        "variance = accuracies.std()"
      ],
      "metadata": {
        "colab": {
          "base_uri": "https://localhost:8080/"
        },
        "id": "zUTcHpWFmvtv",
        "outputId": "2236b1ab-8f82-4403-e7a7-2648cfddd3e4"
      },
      "execution_count": 39,
      "outputs": [
        {
          "output_type": "stream",
          "name": "stdout",
          "text": [
            "Epoch 1/2\n"
          ]
        },
        {
          "output_type": "stream",
          "name": "stderr",
          "text": [
            "/usr/local/lib/python3.7/dist-packages/ipykernel_launcher.py:13: DeprecationWarning: KerasClassifier is deprecated, use Sci-Keras (https://github.com/adriangb/scikeras) instead. See https://www.adriangb.com/scikeras/stable/migration.html for help migrating.\n",
            "  del sys.path[0]\n"
          ]
        },
        {
          "output_type": "stream",
          "name": "stdout",
          "text": [
            "637/637 [==============================] - 2s 2ms/step - loss: 0.5733 - accuracy: 0.7237\n",
            "Epoch 2/2\n",
            "637/637 [==============================] - 1s 2ms/step - loss: 0.4548 - accuracy: 0.8196\n",
            "637/637 [==============================] - 1s 1ms/step - loss: 0.4313 - accuracy: 0.8182\n",
            "Epoch 1/2\n",
            "637/637 [==============================] - 2s 2ms/step - loss: 0.5517 - accuracy: 0.7575\n",
            "Epoch 2/2\n",
            "637/637 [==============================] - 1s 2ms/step - loss: 0.4103 - accuracy: 0.8069\n",
            "637/637 [==============================] - 1s 1ms/step - loss: 0.3914 - accuracy: 0.8115\n"
          ]
        }
      ]
    },
    {
      "cell_type": "code",
      "source": [
        "print('Mean accuracy score of 2 different models using Kfold cross validation: {}'.format(mean))\n",
        "print('Standard Deviation of accuracy score of 2 different models using Kfold cross validation: {}'.format(variance))"
      ],
      "metadata": {
        "colab": {
          "base_uri": "https://localhost:8080/"
        },
        "id": "d48MtrDEmvwO",
        "outputId": "ffea5c46-aed0-4754-ec17-bf339bdb4f39"
      },
      "execution_count": 41,
      "outputs": [
        {
          "output_type": "stream",
          "name": "stdout",
          "text": [
            "Mean accuracy score of 2 different models using Kfold cross validation: 0.8148351609706879\n",
            "Standard Deviation of accuracy score of 2 different models using Kfold cross validation: 0.0033752024173736572\n"
          ]
        }
      ]
    }
  ]
}